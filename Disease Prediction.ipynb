{
 "cells": [
  {
   "cell_type": "code",
   "execution_count": 1,
   "id": "68f5796d",
   "metadata": {},
   "outputs": [
    {
     "name": "stdout",
     "output_type": "stream",
     "text": [
      "WARNING:tensorflow:From C:\\Users\\mahid\\anaconda3\\Lib\\site-packages\\keras\\src\\losses.py:2976: The name tf.losses.sparse_softmax_cross_entropy is deprecated. Please use tf.compat.v1.losses.sparse_softmax_cross_entropy instead.\n",
      "\n"
     ]
    }
   ],
   "source": [
    "import pandas as pd\n",
    "import numpy as np\n",
    "import matplotlib.pyplot as plt\n",
    "import seaborn as sns\n",
    "%matplotlib inline\n",
    "import warnings\n",
    "warnings.filterwarnings(\"ignore\")\n",
    "\n",
    "from keras.models import Sequential\n",
    "from keras.layers import Dense, Activation, Dropout\n",
    "from keras.optimizers import SGD\n",
    "import random\n",
    "\n",
    "import nltk\n",
    "from nltk.stem import WordNetLemmatizer\n",
    "lemmatizer = WordNetLemmatizer()\n",
    "import json\n",
    "import pickle"
   ]
  },
  {
   "cell_type": "code",
   "execution_count": 2,
   "id": "15019f30",
   "metadata": {},
   "outputs": [],
   "source": [
    "import os\n",
    "os.chdir(\"C://Users//mahid//OneDrive//Desktop//Datasciencechannel//chatbot project\")"
   ]
  },
  {
   "cell_type": "code",
   "execution_count": 3,
   "id": "4410e191",
   "metadata": {},
   "outputs": [
    {
     "data": {
      "text/plain": [
       "['classes.pkl', 'intents.json', 'words.pkl']"
      ]
     },
     "execution_count": 3,
     "metadata": {},
     "output_type": "execute_result"
    }
   ],
   "source": [
    "os.listdir()"
   ]
  },
  {
   "cell_type": "code",
   "execution_count": 4,
   "id": "05b599ed",
   "metadata": {},
   "outputs": [],
   "source": [
    "#reading the files\n",
    "intents = open('intents.json').read()\n",
    "intents_file = json.loads(intents)"
   ]
  },
  {
   "cell_type": "code",
   "execution_count": 47,
   "id": "033d079a",
   "metadata": {},
   "outputs": [
    {
     "name": "stderr",
     "output_type": "stream",
     "text": [
      "[nltk_data] Downloading package punkt to\n",
      "[nltk_data]     C:\\Users\\mahid\\AppData\\Roaming\\nltk_data...\n",
      "[nltk_data]   Unzipping tokenizers\\punkt.zip.\n"
     ]
    },
    {
     "data": {
      "text/plain": [
       "True"
      ]
     },
     "execution_count": 47,
     "metadata": {},
     "output_type": "execute_result"
    }
   ],
   "source": [
    "import nltk\n",
    "nltk.download('punkt')"
   ]
  },
  {
   "cell_type": "code",
   "execution_count": 5,
   "id": "972a3134",
   "metadata": {},
   "outputs": [
    {
     "name": "stdout",
     "output_type": "stream",
     "text": [
      "{'intents': [{'tag': 'greeting', 'patterns': ['Hi there', 'How are you', 'Is anyone there?', 'Hey', 'Hola', 'Hello', 'Good day'], 'responses': ['Hello, thanks for asking', 'Good to see you again', 'Hi there, how can I help?'], 'context': ['']}, {'tag': 'goodbye', 'patterns': ['Bye', 'See you later', 'Goodbye', 'Nice chatting to you, bye', 'Till next time'], 'responses': ['See you!', 'Have a nice day', 'Bye! Come back again soon.'], 'context': ['']}, {'tag': 'thanks', 'patterns': ['Thanks', 'Thank you', \"That's helpful\", 'Awesome, thanks', 'Thanks for helping me'], 'responses': ['Happy to help!', 'Any time!', 'My pleasure'], 'context': ['']}, {'tag': 'noanswer', 'patterns': [], 'responses': [\"Sorry, can't understand you\", 'Please give me more info', 'Not sure I understand'], 'context': ['']}, {'tag': 'options', 'patterns': ['How you could help me?', 'What you can do?', 'What help you provide?', 'How you can be helpful?', 'What support is offered'], 'responses': ['I can guide you through Adverse drug reaction list, Blood pressure tracking, Hospitals and Pharmacies', 'Offering support for Adverse drug reaction, Blood pressure, Hospitals and Pharmacies'], 'context': ['']}, {'tag': 'adverse_drug', 'patterns': ['How to check Adverse drug reaction?', 'Open adverse drugs module', 'Give me a list of drugs causing adverse behavior', 'List all drugs suitable for patient with adverse reaction', 'Which drugs dont have adverse reaction?'], 'responses': ['Navigating to Adverse drug reaction module'], 'context': ['']}, {'tag': 'blood_pressure', 'patterns': ['Open blood pressure module', 'Task related to blood pressure', 'Blood pressure data entry', 'I want to log blood pressure results', 'Blood pressure data management'], 'responses': ['Navigating to Blood Pressure module'], 'context': ['']}, {'tag': 'blood_pressure_search', 'patterns': ['I want to search for blood pressure result history', 'Blood pressure for patient', 'Load patient blood pressure result', 'Show blood pressure results for patient', 'Find blood pressure results by ID'], 'responses': ['Please provide Patient ID', 'Patient ID?'], 'context': ['search_blood_pressure_by_patient_id']}, {'tag': 'search_blood_pressure_by_patient_id', 'patterns': [], 'responses': ['Loading Blood pressure result for Patient'], 'context': ['']}, {'tag': 'pharmacy_search', 'patterns': ['Find me a pharmacy', 'Find pharmacy', 'List of pharmacies nearby', 'Locate pharmacy', 'Search pharmacy'], 'responses': ['Please provide pharmacy name'], 'context': ['search_pharmacy_by_name']}, {'tag': 'search_pharmacy_by_name', 'patterns': [], 'responses': ['Loading pharmacy details'], 'context': ['']}, {'tag': 'hospital_search', 'patterns': ['Lookup for hospital', 'Searching for hospital to transfer patient', 'I want to search hospital data', 'Hospital lookup for patient', 'Looking up hospital details'], 'responses': ['Please provide hospital name or location'], 'context': ['search_hospital_by_params']}, {'tag': 'search_hospital_by_params', 'patterns': [], 'responses': ['Please provide hospital type'], 'context': ['search_hospital_by_type']}, {'tag': 'search_hospital_by_type', 'patterns': [], 'responses': ['Loading hospital details'], 'context': ['']}]}\n"
     ]
    }
   ],
   "source": [
    "print(intents_file)"
   ]
  },
  {
   "cell_type": "code",
   "execution_count": 6,
   "id": "dd7e27ed",
   "metadata": {},
   "outputs": [
    {
     "name": "stdout",
     "output_type": "stream",
     "text": [
      "['greeting', 'goodbye', 'thanks', 'options', 'adverse_drug', 'blood_pressure', 'blood_pressure_search', 'pharmacy_search', 'hospital_search']\n",
      "[(['Hi', 'there'], 'greeting'), (['How', 'are', 'you'], 'greeting'), (['Is', 'anyone', 'there'], 'greeting'), (['Hey'], 'greeting'), (['Hola'], 'greeting'), (['Hello'], 'greeting'), (['Good', 'day'], 'greeting'), (['Bye'], 'goodbye'), (['See', 'you', 'later'], 'goodbye'), (['Goodbye'], 'goodbye'), (['Nice', 'chatting', 'to', 'you', 'bye'], 'goodbye'), (['Till', 'next', 'time'], 'goodbye'), (['Thanks'], 'thanks'), (['Thank', 'you'], 'thanks'), (['That', \"'s\", 'helpful'], 'thanks'), (['Awesome', 'thanks'], 'thanks'), (['Thanks', 'for', 'helping', 'me'], 'thanks'), (['How', 'you', 'could', 'help', 'me'], 'options'), (['What', 'you', 'can', 'do'], 'options'), (['What', 'help', 'you', 'provide'], 'options'), (['How', 'you', 'can', 'be', 'helpful'], 'options'), (['What', 'support', 'is', 'offered'], 'options'), (['How', 'to', 'check', 'Adverse', 'drug', 'reaction'], 'adverse_drug'), (['Open', 'adverse', 'drugs', 'module'], 'adverse_drug'), (['Give', 'me', 'a', 'list', 'of', 'drugs', 'causing', 'adverse', 'behavior'], 'adverse_drug'), (['List', 'all', 'drugs', 'suitable', 'for', 'patient', 'with', 'adverse', 'reaction'], 'adverse_drug'), (['Which', 'drugs', 'dont', 'have', 'adverse', 'reaction'], 'adverse_drug'), (['Open', 'blood', 'pressure', 'module'], 'blood_pressure'), (['Task', 'related', 'to', 'blood', 'pressure'], 'blood_pressure'), (['Blood', 'pressure', 'data', 'entry'], 'blood_pressure'), (['I', 'want', 'to', 'log', 'blood', 'pressure', 'results'], 'blood_pressure'), (['Blood', 'pressure', 'data', 'management'], 'blood_pressure'), (['I', 'want', 'to', 'search', 'for', 'blood', 'pressure', 'result', 'history'], 'blood_pressure_search'), (['Blood', 'pressure', 'for', 'patient'], 'blood_pressure_search'), (['Load', 'patient', 'blood', 'pressure', 'result'], 'blood_pressure_search'), (['Show', 'blood', 'pressure', 'results', 'for', 'patient'], 'blood_pressure_search'), (['Find', 'blood', 'pressure', 'results', 'by', 'ID'], 'blood_pressure_search'), (['Find', 'me', 'a', 'pharmacy'], 'pharmacy_search'), (['Find', 'pharmacy'], 'pharmacy_search'), (['List', 'of', 'pharmacies', 'nearby'], 'pharmacy_search'), (['Locate', 'pharmacy'], 'pharmacy_search'), (['Search', 'pharmacy'], 'pharmacy_search'), (['Lookup', 'for', 'hospital'], 'hospital_search'), (['Searching', 'for', 'hospital', 'to', 'transfer', 'patient'], 'hospital_search'), (['I', 'want', 'to', 'search', 'hospital', 'data'], 'hospital_search'), (['Hospital', 'lookup', 'for', 'patient'], 'hospital_search'), (['Looking', 'up', 'hospital', 'details'], 'hospital_search')]\n"
     ]
    }
   ],
   "source": [
    "#preprocessing of data\n",
    "words = []\n",
    "classes = []\n",
    "documents = []\n",
    "ignore_letters = ['!', '?', ',', '.']\n",
    "\n",
    "for intent in intents_file[\"intents\"]:\n",
    "    for pattern in intent[\"patterns\"]:\n",
    "        #tokenize of word\n",
    "        word = nltk.word_tokenize(pattern)\n",
    "        someword = [i.strip() for i in word if i not in ignore_letters]\n",
    "        words.extend(someword)\n",
    "        #add documents in the corpus\n",
    "        documents.append((someword, intent[\"tag\"]))\n",
    "        if intent[\"tag\"] not in classes:\n",
    "            classes.append(intent[\"tag\"])\n",
    "print(classes)\n",
    "print(documents)"
   ]
  },
  {
   "cell_type": "code",
   "execution_count": 7,
   "id": "71a4c115",
   "metadata": {},
   "outputs": [
    {
     "name": "stdout",
     "output_type": "stream",
     "text": [
      "{'wouldn', 'at', 'haven', 'should', 'isn', \"couldn't\", 'with', 'against', 'into', 'hasn', 're', 'i', 'it', 'ourselves', \"didn't\", 'while', 'theirs', 'they', 'until', 'these', \"needn't\", 'once', 'after', \"mustn't\", 'that', 'itself', 'few', 'on', 'was', 'will', 'and', 'out', \"haven't\", \"you'd\", 'more', 'mustn', 'those', 'no', \"shouldn't\", \"she's\", 'than', 'she', 'some', 'why', 'own', 'above', 'very', 'doesn', 'a', 'he', 'both', 'didn', 'his', 'of', 'shouldn', 'yours', 'then', 'our', 'were', 's', 'have', 'we', 'where', 'yourselves', 'mightn', 'shan', 'during', 'each', 'him', \"don't\", 'been', 'all', 'here', \"mightn't\", 'this', \"won't\", \"that'll\", 'before', 'down', \"wouldn't\", 'up', 'had', 'o', 'or', 'himself', 'the', 'other', 'for', 'm', \"it's\", 'doing', 'weren', 'when', 'because', \"you've\", 'most', 'only', 'now', 'herself', 'what', 'which', 'her', 'ours', \"hadn't\", 'how', 'you', 'by', 'd', 'over', 'do', 'below', 'further', \"weren't\", 'hers', 've', \"you're\", \"you'll\", 'couldn', 'whom', 'has', 'having', 'ain', 'myself', 'again', 'in', 'who', 'hadn', 'too', \"doesn't\", 'my', \"isn't\", 'such', 'are', 'any', \"wasn't\", 'don', \"should've\", 'nor', 'through', 'does', \"shan't\", 'be', 'there', 'themselves', 'll', 'them', 'am', 'needn', 'y', 'if', 'aren', 'ma', 'yourself', 'can', 'to', 'about', 'being', 'so', 'just', 'its', 'not', 'wasn', 'from', 'your', 'is', 'but', 'won', \"hasn't\", 'did', \"aren't\", 'off', 'under', 'me', 't', 'an', 'their', 'as', 'between', 'same'}\n"
     ]
    }
   ],
   "source": [
    "#checkinhg for stopwords\n",
    "# nltk.download(\"stopwords\")\n",
    "from nltk.corpus import stopwords\n",
    "stop_words = set(stopwords.words(\"english\"))\n",
    "print(stop_words)"
   ]
  },
  {
   "cell_type": "code",
   "execution_count": 8,
   "id": "b6d96751",
   "metadata": {},
   "outputs": [
    {
     "name": "stdout",
     "output_type": "stream",
     "text": [
      "[\"'s\", 'a', 'adverse', 'all', 'anyone', 'are', 'awesome', 'be', 'behavior', 'blood', 'by', 'bye', 'can', 'causing', 'chatting', 'check', 'could', 'data', 'day', 'detail', 'do', 'dont', 'drug', 'entry', 'find', 'for', 'give', 'good', 'goodbye', 'have', 'hello', 'help', 'helpful', 'helping', 'hey', 'hi', 'history', 'hola', 'hospital', 'how', 'i', 'id', 'is', 'later', 'list', 'load', 'locate', 'log', 'looking', 'lookup', 'management', 'me', 'module', 'nearby', 'next', 'nice', 'of', 'offered', 'open', 'patient', 'pharmacy', 'pressure', 'provide', 'reaction', 'related', 'result', 'search', 'searching', 'see', 'show', 'suitable', 'support', 'task', 'thank', 'thanks', 'that', 'there', 'till', 'time', 'to', 'transfer', 'up', 'want', 'what', 'which', 'with', 'you']\n"
     ]
    }
   ],
   "source": [
    "#lemmatization of word\n",
    "# print(words)\n",
    "# nltk.download('wordnet')\n",
    "words = [lemmatizer.lemmatize(w.lower()) for w in words]\n",
    "words = sorted(list(set(words)))\n",
    "print(words)"
   ]
  },
  {
   "cell_type": "code",
   "execution_count": 9,
   "id": "577f70ff",
   "metadata": {},
   "outputs": [
    {
     "name": "stdout",
     "output_type": "stream",
     "text": [
      "['adverse_drug', 'blood_pressure', 'blood_pressure_search', 'goodbye', 'greeting', 'hospital_search', 'options', 'pharmacy_search', 'thanks']\n",
      "47 documents\n",
      "9 classes ['adverse_drug', 'blood_pressure', 'blood_pressure_search', 'goodbye', 'greeting', 'hospital_search', 'options', 'pharmacy_search', 'thanks']\n",
      "87 unique lemmatized words [\"'s\", 'a', 'adverse', 'all', 'anyone', 'are', 'awesome', 'be', 'behavior', 'blood', 'by', 'bye', 'can', 'causing', 'chatting', 'check', 'could', 'data', 'day', 'detail', 'do', 'dont', 'drug', 'entry', 'find', 'for', 'give', 'good', 'goodbye', 'have', 'hello', 'help', 'helpful', 'helping', 'hey', 'hi', 'history', 'hola', 'hospital', 'how', 'i', 'id', 'is', 'later', 'list', 'load', 'locate', 'log', 'looking', 'lookup', 'management', 'me', 'module', 'nearby', 'next', 'nice', 'of', 'offered', 'open', 'patient', 'pharmacy', 'pressure', 'provide', 'reaction', 'related', 'result', 'search', 'searching', 'see', 'show', 'suitable', 'support', 'task', 'thank', 'thanks', 'that', 'there', 'till', 'time', 'to', 'transfer', 'up', 'want', 'what', 'which', 'with', 'you']\n"
     ]
    }
   ],
   "source": [
    "# sort classes\n",
    "classes = sorted(list(set(classes)))\n",
    "print(classes)\n",
    "# # documents = combination between patterns and intents\n",
    "print (len(documents), \"documents\")\n",
    "# # classes = intents\n",
    "print (len(classes), \"classes\", classes)\n",
    "# # words = all words, vocabulary\n",
    "print (len(words), \"unique lemmatized words\", words)"
   ]
  },
  {
   "cell_type": "code",
   "execution_count": 108,
   "id": "c20f6378",
   "metadata": {},
   "outputs": [],
   "source": [
    "# dumping the words and classes into pickle format\n",
    "pickle.dump(words,open('words.pkl','wb'))\n",
    "pickle.dump(classes,open(\"classes.pkl\",'wb'))"
   ]
  },
  {
   "cell_type": "code",
   "execution_count": 109,
   "id": "9969fac4",
   "metadata": {},
   "outputs": [
    {
     "name": "stdout",
     "output_type": "stream",
     "text": [
      "[\"'s\", 'a', 'adverse', 'all', 'anyone', 'are', 'awesome', 'be', 'behavior', 'blood', 'by', 'bye', 'can', 'causing', 'chatting', 'check', 'could', 'data', 'day', 'detail', 'do', 'dont', 'drug', 'entry', 'find', 'for', 'give', 'good', 'goodbye', 'have', 'hello', 'help', 'helpful', 'helping', 'hey', 'hi', 'history', 'hola', 'hospital', 'how', 'i', 'id', 'is', 'later', 'list', 'load', 'locate', 'log', 'looking', 'lookup', 'management', 'me', 'module', 'nearby', 'next', 'nice', 'of', 'offered', 'open', 'patient', 'pharmacy', 'pressure', 'provide', 'reaction', 'related', 'result', 'search', 'searching', 'see', 'show', 'suitable', 'support', 'task', 'thank', 'thanks', 'that', 'there', 'till', 'time', 'to', 'transfer', 'up', 'want', 'what', 'which', 'with', 'you']\n"
     ]
    }
   ],
   "source": [
    "# formatt of reading & loading pickle file\n",
    "with open(\"words.pkl\",\"rb\") as file:\n",
    "    d = pickle.load(file)\n",
    "print(d)\n",
    "with open(\"classes.pkl\",\"rb\") as file:\n",
    "    d1 = pickle.load(file)\n",
    "print(d1)"
   ]
  },
  {
   "cell_type": "code",
   "execution_count": 43,
   "id": "81c87191",
   "metadata": {},
   "outputs": [
    {
     "name": "stdout",
     "output_type": "stream",
     "text": [
      "[[1, 0, 0, 0, 0, 0, 0, 0, 0, 0, 0, 0, 0, 0, 0, 0, 0, 0, 0, 0, 0, 0, 0, 0, 0, 0, 0, 0, 0, 0, 0, 0, 1, 0, 0, 0, 0, 0, 0, 0, 0, 0, 0, 0, 0, 0, 0, 0, 0, 0, 0, 0, 0, 0, 0, 0, 0, 0, 0, 0, 0, 0, 0, 0, 0, 0, 0, 0, 0, 0, 0, 0, 0, 0, 0, 1, 0, 0, 0, 0, 0, 0, 0, 0, 0, 0, 0], [0, 0, 0, 0, 0, 0, 0, 0, 1]]\n"
     ]
    }
   ],
   "source": [
    "#CREATING TRAINING AND TESTING DATA\n",
    "training = []\n",
    "output_empty = [0] * len(classes)\n",
    "# print(documents)\n",
    "for doc in documents:\n",
    "    bag = []\n",
    "    word_patterns = doc[0]\n",
    "    word_patterns = [lemmatizer.lemmatize(w.lower()) for w in word_patterns]\n",
    "    for word in words:\n",
    "        bag.append(1) if word in word_patterns else bag.append(0)\n",
    "    output_row = list(output_empty)\n",
    "    output_row[classes.index(doc[1])] = 1\n",
    "    training.append([bag, output_row])\n",
    "#shuffling the features\n",
    "random.shuffle(training)\n",
    "# from keras.preprocessing.sequence import pad_sequences\n",
    "# pad_data = pad_sequences(training, padding = 'post')\n",
    "# train_new = np.array(pad_data)\n",
    "# print(train_new)\n",
    "train_x = training[0]\n",
    "print(train_x)"
   ]
  },
  {
   "cell_type": "code",
   "execution_count": null,
   "id": "b8561965",
   "metadata": {},
   "outputs": [],
   "source": [
    "model = Sequential()\n",
    "model.add(Dense(128, input_shape(len(train_x[0],), activation = 'relu')))\n",
    "model.add(Dropout(0.5))\n",
    "model.add(Dense(64,activation = 'relu'))\n",
    "model.add(Dropout(0.5))\n",
    "model.add(Dense(len(train_y[0])), activation = 'softmax')"
   ]
  },
  {
   "cell_type": "markdown",
   "id": "b6b111ca",
   "metadata": {},
   "source": [
    "#RNN diease & prescription predicting for a patient problem using RNN & LSTM networks"
   ]
  },
  {
   "cell_type": "code",
   "execution_count": 2,
   "id": "dfda1745",
   "metadata": {},
   "outputs": [],
   "source": [
    "import pandas as pd\n",
    "import numpy as np\n",
    "import matplotlib.pyplot as plt\n",
    "import seaborn as sns\n",
    "import warnings\n",
    "warnings.filterwarnings(\"ignore\")\n",
    "\n",
    "from tensorflow import keras\n",
    "from keras.models import Sequential\n",
    "from keras.layers import LSTM\n",
    "from keras.layers import Dense"
   ]
  },
  {
   "cell_type": "code",
   "execution_count": 17,
   "id": "aebeb63e",
   "metadata": {},
   "outputs": [],
   "source": [
    "import pandas as pd\n",
    "import numpy as np\n",
    "# from tensorflow.keras.preprocessing.text import tokenizer\n",
    "# from tensorflow.keras.preprocessing.sequence import pad_sequence\n",
    "# from tensorflow.keras.util import to_categorical\n",
    "# from sklearn.preprocessing import LabelEncoder\n",
    "# from tensorflow.keras.models import Model\n",
    "# from tensorflow.keras.layers import LSTM, Embeddings, Dense, Input\n",
    "from tensorflow.keras.preprocessing.text import Tokenizer\n",
    "from tensorflow.keras.preprocessing.sequence import pad_sequences\n",
    "from tensorflow.keras.utils import to_categorical\n",
    "from tensorflow.keras.models import Model\n",
    "from tensorflow.keras.layers import Input, Embedding, Dense, LSTM\n",
    "from sklearn.preprocessing import LabelEncoder\n",
    "import os"
   ]
  },
  {
   "cell_type": "code",
   "execution_count": 18,
   "id": "95c8abe5",
   "metadata": {},
   "outputs": [
    {
     "data": {
      "text/plain": [
       "['Dec 2022.pdf',\n",
       " 'Feb 2023.pdf',\n",
       " 'Jan 2023.pdf',\n",
       " 'March 2023.pdf',\n",
       " 'medical_data.csv',\n",
       " 'Nov 2022.pdf',\n",
       " 'oct 2022.pdf',\n",
       " 'Payslip 2023-2024 Financial Year.pdf',\n",
       " 'Score Report _ Cibil Dashboard.pdf',\n",
       " 'Sep 2022.pdf',\n",
       " '__APSPDCL__GV.pdf',\n",
       " '__APSPDCL__GVKR.pdf']"
      ]
     },
     "execution_count": 18,
     "metadata": {},
     "output_type": "execute_result"
    }
   ],
   "source": [
    "os.chdir(\"C://Users//mahid//OneDrive//Desktop//LTI Payslips\")\n",
    "os.listdir()"
   ]
  },
  {
   "cell_type": "code",
   "execution_count": 19,
   "id": "7ef8aee1",
   "metadata": {},
   "outputs": [
    {
     "data": {
      "text/html": [
       "<div>\n",
       "<style scoped>\n",
       "    .dataframe tbody tr th:only-of-type {\n",
       "        vertical-align: middle;\n",
       "    }\n",
       "\n",
       "    .dataframe tbody tr th {\n",
       "        vertical-align: top;\n",
       "    }\n",
       "\n",
       "    .dataframe thead th {\n",
       "        text-align: right;\n",
       "    }\n",
       "</style>\n",
       "<table border=\"1\" class=\"dataframe\">\n",
       "  <thead>\n",
       "    <tr style=\"text-align: right;\">\n",
       "      <th></th>\n",
       "      <th>Patient_Problem</th>\n",
       "      <th>Disease</th>\n",
       "      <th>Prescription</th>\n",
       "    </tr>\n",
       "  </thead>\n",
       "  <tbody>\n",
       "    <tr>\n",
       "      <th>0</th>\n",
       "      <td>Constant fatigue and muscle weakness, struggli...</td>\n",
       "      <td>Chronic Fatigue Syndrome</td>\n",
       "      <td>Cognitive behavioral therapy, graded exercise ...</td>\n",
       "    </tr>\n",
       "    <tr>\n",
       "      <th>1</th>\n",
       "      <td>Frequent severe migraines, sensitivity to ligh...</td>\n",
       "      <td>Migraine with Aura</td>\n",
       "      <td>Prescription triptans, avoid triggers like bri...</td>\n",
       "    </tr>\n",
       "    <tr>\n",
       "      <th>2</th>\n",
       "      <td>Sudden weight gain and feeling cold, especiall...</td>\n",
       "      <td>Hypothyroidism</td>\n",
       "      <td>Levothyroxine to regulate thyroid hormone levels.</td>\n",
       "    </tr>\n",
       "    <tr>\n",
       "      <th>3</th>\n",
       "      <td>High fever, sore throat, and swollen lymph nod...</td>\n",
       "      <td>Mononucleosis</td>\n",
       "      <td>Rest and hydration, ibuprofen for pain.</td>\n",
       "    </tr>\n",
       "    <tr>\n",
       "      <th>4</th>\n",
       "      <td>Excessive thirst and frequent urination, dry m...</td>\n",
       "      <td>Diabetes Mellitus</td>\n",
       "      <td>Insulin therapy and lifestyle changes.</td>\n",
       "    </tr>\n",
       "  </tbody>\n",
       "</table>\n",
       "</div>"
      ],
      "text/plain": [
       "                                     Patient_Problem  \\\n",
       "0  Constant fatigue and muscle weakness, struggli...   \n",
       "1  Frequent severe migraines, sensitivity to ligh...   \n",
       "2  Sudden weight gain and feeling cold, especiall...   \n",
       "3  High fever, sore throat, and swollen lymph nod...   \n",
       "4  Excessive thirst and frequent urination, dry m...   \n",
       "\n",
       "                    Disease                                       Prescription  \n",
       "0  Chronic Fatigue Syndrome  Cognitive behavioral therapy, graded exercise ...  \n",
       "1        Migraine with Aura  Prescription triptans, avoid triggers like bri...  \n",
       "2            Hypothyroidism  Levothyroxine to regulate thyroid hormone levels.  \n",
       "3             Mononucleosis            Rest and hydration, ibuprofen for pain.  \n",
       "4         Diabetes Mellitus             Insulin therapy and lifestyle changes.  "
      ]
     },
     "execution_count": 19,
     "metadata": {},
     "output_type": "execute_result"
    }
   ],
   "source": [
    "df = pd.read_csv(\"medical_data.csv\")\n",
    "df.head()"
   ]
  },
  {
   "cell_type": "code",
   "execution_count": 25,
   "id": "23f5678e",
   "metadata": {},
   "outputs": [
    {
     "data": {
      "text/plain": [
       "array(['Chronic Fatigue Syndrome', 'Migraine with Aura', 'Hypothyroidism',\n",
       "       'Mononucleosis', 'Diabetes Mellitus', 'Pericarditis',\n",
       "       'Tuberculosis', 'Pancreatitis', 'Rheumatoid Arthritis',\n",
       "       'Herpes Simplex', 'Esophageal Reflux', 'Irritable Bowel Syndrome',\n",
       "       'Scabies', 'Hepatitis', 'Subarachnoid Hemorrhage', 'Lung Cancer',\n",
       "       'Hemophilia', 'Food Allergy', 'Urinary Tract Infection',\n",
       "       'Early Onset Dementia', 'Migraine', 'Asthma', 'Panic Attacks',\n",
       "       'Type 1 Diabetes', 'Irritable Bowel Syndrome (IBS)', 'Cystic Acne',\n",
       "       'Insomnia', 'Major Depressive Disorder', 'Myopia and Hyperopia',\n",
       "       'Diabetes Type 2', 'Gout',\n",
       "       'Chronic Obstructive Pulmonary Disease (COPD)',\n",
       "       'Benign Positional Vertigo', 'Hyperhidrosis', 'Pharyngitis',\n",
       "       'Peripheral Neuropathy', 'Pulmonary Embolism',\n",
       "       'Migraine and Vertigo', 'Gastrointestinal Infection',\n",
       "       'Contact Dermatitis', 'Chronic Bronchitis', 'Patellar Tendinitis',\n",
       "       'Myopia', 'Sciatica', 'Insomnia and Anxiety',\n",
       "       'Streptococcal Pharyngitis', 'Hyperthyroidism', 'Tinnitus',\n",
       "       'Epistaxis', 'Pleurisy', 'Jaundice', 'Esophageal Stricture',\n",
       "       \"Parkinson's Disease\", 'Strep Throat', 'Influenza', 'Gastritis',\n",
       "       'Cellulitis', 'Dry Eye Syndrome', 'Herniated Disc',\n",
       "       \"Alzheimer's Disease\", 'Panic Disorder', 'Migraines',\n",
       "       'Gastroesophageal Reflux Disease', 'Allergic Rhinitis',\n",
       "       'Bronchitis', 'Bipolar Disorder', 'Night Blindness', 'Psoriasis',\n",
       "       'Vertigo', 'Bronchial Asthma', 'Knee Osteoarthritis',\n",
       "       'Type 1 Diabetes Mellitus', 'Atrial Fibrillation',\n",
       "       'Attention Deficit Hyperactivity Disorder', 'Muscular Dystrophy',\n",
       "       'Hereditary Hemorrhagic Telangiectasia', 'Anxiety Disorder',\n",
       "       'Diabetes', 'Pregnancy', 'Deep Vein Thrombosis', 'COVID-19',\n",
       "       'Orthostatic Hypotension', 'Appendicitis', 'Pneumonia',\n",
       "       'Esophagitis', 'Gingivitis', 'Eczema', 'Alopecia Areata',\n",
       "       'Electrolyte Imbalance', 'Cystitis', 'Multiple Sclerosis',\n",
       "       'Tension Headaches', 'Retinal Detachment',\n",
       "       'Iron Deficiency Anemia', 'Seasonal Allergies',\n",
       "       'Carpal Tunnel Syndrome', 'Atopic Dermatitis', 'Angina Pectoris',\n",
       "       'Anorexia', 'Chronic Obstructive Pulmonary Disease', 'Leukemia',\n",
       "       'Colorectal Cancer', 'Polycystic Ovary Syndrome', 'Tendinitis',\n",
       "       'Age-related Macular Degeneration', 'Heart Failure',\n",
       "       'Typhoid Fever', 'Diabetic Retinopathy', 'Gallstones',\n",
       "       'Thyroid Nodule', 'Peripheral Artery Disease', 'Chronic Migraine',\n",
       "       'Diabetes Type 1', 'Esophageal Cancer', 'Hypertension',\n",
       "       'Liver Disease', 'Generalized Anxiety Disorder', 'Depression',\n",
       "       'Thyroid Cancer', 'Gastroesophageal Reflux Disease (GERD)',\n",
       "       'Malignant Melanoma', \"Cushing's Syndrome\", 'Diabetes Insipidus',\n",
       "       'Vasovagal Syncope', 'Sleep Apnea', 'Venous Insufficiency',\n",
       "       'Laryngitis', 'GERD', 'Angina', 'Chronic Asthma',\n",
       "       'Unexplained Weight Loss', 'Basal Cell Carcinoma',\n",
       "       'Cluster Headaches', 'Transient Ischemic Attack',\n",
       "       'Insomnia and Generalized Anxiety Disorder', 'Gastroenteritis',\n",
       "       'Meningitis', 'Severe Allergic Reaction', 'Hematuria',\n",
       "       'Oral Thrush', 'Uveitis', 'Lymphadenitis', 'Conjunctivitis',\n",
       "       \"Bell's Palsy\", 'Kidney Stones', 'Hepatitis C',\n",
       "       'Myocardial Infarction', 'Retinal Vein Occlusion',\n",
       "       'Frozen Shoulder', 'Aphthous Ulcers', 'Seborrheic Dermatitis',\n",
       "       'Paroxysmal Supraventricular Tachycardia', 'Constipation',\n",
       "       'Social Anxiety Disorder', 'Diplopia', 'Overactive Bladder',\n",
       "       'Exercise-Induced Asthma', 'Temporomandibular Joint Disorder',\n",
       "       \"Athlete's Foot\", 'Peanut Allergy', \"Raynaud's Phenomenon\",\n",
       "       'Ulcerative Colitis', 'Cyanosis', 'Lupus', 'Melasma', 'Malaria',\n",
       "       'Presbyopia', 'Nystagmus', 'Lymphoma', 'Anaphylaxis',\n",
       "       'Acid Reflux', 'Arrhythmia', 'Leukoplakia', 'Achilles Tendinitis',\n",
       "       'Esophageal Obstruction', 'Androgenetic Alopecia', 'Stroke',\n",
       "       'Eustachian Tube Dysfunction'], dtype=object)"
      ]
     },
     "execution_count": 25,
     "metadata": {},
     "output_type": "execute_result"
    }
   ],
   "source": [
    "df[\"Disease\"].unique()"
   ]
  },
  {
   "cell_type": "code",
   "execution_count": 26,
   "id": "9a1e2720",
   "metadata": {},
   "outputs": [
    {
     "data": {
      "text/plain": [
       "Prescription\n",
       "Thyroid hormone replacement therapy.                             6\n",
       "Increase salt intake; wear compression stockings.                3\n",
       "Surgical removal of the appendix.                                3\n",
       "Antidepressants, psychotherapy.                                  2\n",
       "Pain relievers and physical therapy; surgery in severe cases.    2\n",
       "                                                                ..\n",
       "Anticoagulants; wearing compression stockings.                   1\n",
       "Sleep hygiene practices; melatonin supplements.                  1\n",
       "Prenatal vitamins; regular check-ups.                            1\n",
       "Topical corticosteroids; moisturizers.                           1\n",
       "Colonoscopy, potentially surgery, chemotherapy.                  1\n",
       "Name: count, Length: 388, dtype: int64"
      ]
     },
     "execution_count": 26,
     "metadata": {},
     "output_type": "execute_result"
    }
   ],
   "source": [
    "df[\"Prescription\"].value_counts()"
   ]
  },
  {
   "cell_type": "code",
   "execution_count": 27,
   "id": "8bde8a3f",
   "metadata": {},
   "outputs": [
    {
     "data": {
      "text/plain": [
       "Patient_Problem\n",
       "Constant fatigue and muscle weakness, struggling to stay awake.      1\n",
       "I have severe and persistent abdominal pain.                         1\n",
       "Experiencing sharp knee pain when walking or climbing stairs.        1\n",
       "Persistent coughing and shortness of breath, especially at night.    1\n",
       "I've noticed a spreading rash on my arm that's very itchy.           1\n",
       "                                                                    ..\n",
       "Swelling and pain in one leg.                                        1\n",
       "Difficulty falling asleep at night.                                  1\n",
       "Nausea and vomiting in the morning.                                  1\n",
       "Skin rash and itching.                                               1\n",
       "Blood in stool, along with a change in bowel movement frequency.     1\n",
       "Name: count, Length: 407, dtype: int64"
      ]
     },
     "execution_count": 27,
     "metadata": {},
     "output_type": "execute_result"
    }
   ],
   "source": [
    "df[\"Patient_Problem\"].value_counts()"
   ]
  },
  {
   "cell_type": "code",
   "execution_count": 20,
   "id": "e1be1fb7",
   "metadata": {},
   "outputs": [
    {
     "name": "stdout",
     "output_type": "stream",
     "text": [
      "(407, 3)\n",
      "Patient_Problem    0\n",
      "Disease            0\n",
      "Prescription       0\n",
      "dtype: int64\n",
      "0\n"
     ]
    }
   ],
   "source": [
    "print(df.shape)\n",
    "print(df.isnull().sum())\n",
    "print(df.duplicated().sum())"
   ]
  },
  {
   "cell_type": "code",
   "execution_count": 21,
   "id": "6a5c85f9",
   "metadata": {},
   "outputs": [
    {
     "name": "stdout",
     "output_type": "stream",
     "text": [
      "[[37, 71, 2, 111, 164, 368, 16, 369, 370], [24, 11, 268, 112, 16, 72, 2, 269], [26, 34, 133, 2, 9, 62, 18, 4, 3, 35, 2, 42], [93, 63, 53, 38, 2, 73, 165, 166, 9, 84, 371], [46, 74, 2, 24, 59, 36, 75, 372], [43, 270, 40, 7, 20, 167, 27, 373, 193, 29, 374, 194], [54, 34, 21, 2, 28, 168, 9, 375], [11, 50, 7, 271, 16, 3, 51, 94, 32, 195], [95, 44, 2, 96, 4, 3, 64, 18, 4, 3, 196, 2, 197], [134, 85, 272, 135, 3, 75, 2, 376], [377, 14, 52, 198, 136, 199], [169, 97, 50, 76, 2, 378], [55, 86, 18, 22, 28, 30, 273, 379, 17, 3, 23], [137, 5, 3, 23, 2, 77, 274, 200, 2, 380, 71], [26, 11, 138, 30, 201, 275, 276, 139, 31], [25, 60, 30, 78, 381, 382, 28, 168], [24, 170, 383, 171, 2, 384, 202, 140, 385], [11, 86, 2, 56, 33, 386, 277, 203], [387, 388, 389, 390, 113, 114, 391, 204], [14, 98, 87, 115, 2, 172], [13, 12, 9, 205, 392, 2, 393, 141, 278, 16, 279], [15, 24, 57, 112, 16, 72, 2, 269], [47, 8, 25, 60, 2, 142, 280, 18, 22, 28], [26, 58, 5, 173, 116, 9, 281], [394, 34, 21, 2, 37, 74], [95, 7, 4, 35, 2, 42, 96, 4, 3, 64], [134, 79, 7, 206, 2, 395, 207, 282], [11, 283, 17, 174, 2, 51, 208, 284, 16, 143, 3, 209, 285], [14, 144, 175, 286, 117, 210, 145, 3, 28], [211, 9, 396, 21, 5, 212, 4, 118], [80, 31, 18, 27, 213, 22, 287, 288, 29, 397, 176], [24, 59, 18, 22, 28, 2, 9, 214], [44, 2, 7, 4, 3, 289, 290, 215, 135, 3, 95], [65, 5, 48, 145, 146, 118, 40, 147], [134, 58, 5, 398, 9, 177, 3, 291, 61, 292], [46, 88, 45, 27, 208, 399, 4, 146, 118], [137, 5, 3, 23, 2, 77, 71, 2, 50, 7], [25, 53, 38, 14, 52, 2, 73, 165, 166], [89, 2, 99, 4, 3, 35, 2, 42, 164], [43, 270, 7, 4, 3, 40, 293, 30, 216, 400], [13, 12, 15, 11, 57, 2, 142, 81], [6, 79, 39, 12, 119, 2, 13, 148, 217, 5, 97, 2, 94], [13, 47, 8, 56, 17, 6, 120, 66, 67, 2, 121], [10, 19, 25, 149, 2, 65, 5, 48], [49, 15, 43, 122, 7, 27, 178, 29, 218, 150], [6, 31, 39, 219, 80, 18, 27, 151], [10, 19, 12, 9, 84, 82, 100, 45, 30, 8, 152, 220, 123], [10, 294, 11, 51, 7, 33, 179, 41, 180, 90], [10, 19, 24, 59, 2, 46, 74], [13, 12, 101, 102, 103, 9, 91, 2, 221], [6, 38, 39, 12, 53, 2, 13, 148, 8, 63, 41, 8, 295, 222], [13, 12, 9, 223, 2, 401, 16, 296, 153, 224], [10, 47, 44, 2, 7, 4, 6, 104, 18, 4, 3, 64], [13, 12, 15, 26, 34, 21, 2, 225, 105], [10, 19, 8, 37, 154, 4, 6, 106, 66, 297, 6, 226], [13, 12, 124, 170, 68, 210, 92, 181], [10, 107, 8, 43, 7, 4, 6, 40, 27, 10, 402, 194], [13, 47, 6, 23, 124, 403, 18, 135, 3, 77], [10, 19, 14, 52, 2, 6, 38, 182, 298], [13, 12, 9, 89, 2, 99, 4, 6, 35, 2, 42], [10, 19, 12, 9, 227, 82, 2, 404, 41, 3, 228, 183], [15, 11, 95, 7, 4, 6, 35, 2, 42], [37, 65, 5, 48, 2, 147, 4, 6, 40], [184, 229, 2, 230, 4, 6, 35], [24, 268, 20, 228, 41, 405], [26, 34, 133, 2, 231, 4, 3, 174], [25, 53, 38, 2, 14, 52], [80, 31, 20, 167, 136, 3, 406, 5, 3, 299], [93, 63, 30, 232, 2, 28, 168], [43, 79, 7, 20, 407, 2, 408], [46, 88, 45, 4, 233, 155], [73, 125, 69, 5, 23, 20, 185, 85, 16, 234], [36, 67, 77, 20, 107, 409], [89, 2, 99, 4, 6, 42], [11, 51, 7, 20, 410, 6, 300], [24, 59, 2, 8, 113, 114], [8, 60, 20, 39, 301, 68, 92, 302, 156], [87, 115, 2, 14, 98], [9, 193, 223, 29, 411], [26, 58, 5, 173, 116], [37, 71, 2, 14, 98, 41, 156], [157, 11, 57, 2, 112, 16, 72], [26, 65, 5, 48, 30, 303, 158], [24, 58, 5, 199, 2, 304, 305], [67, 306, 77, 2, 307, 18, 412], [43, 7, 4, 83, 51, 27, 308, 29, 309], [73, 310, 104, 4, 35, 2, 197], [25, 60, 30, 311, 413], [55, 126, 127, 2, 90, 5, 93, 414, 415, 136, 71], [139, 31, 2, 14, 186, 22, 28], [54, 34, 21, 2, 225, 74], [85, 59, 2, 416, 200], [36, 125, 69, 5, 23, 20, 417, 2, 312], [89, 4, 35, 2, 42, 293, 22, 28], [81, 2, 21, 5, 235, 18, 27, 236, 117], [9, 5, 313, 2, 237, 4, 3, 418, 238], [239, 240, 2, 108, 21], [230, 4, 35, 2, 14, 30, 419, 420, 421], [422, 2, 25, 14, 144, 29, 423, 175], [58, 5, 11, 314, 2, 315, 316], [13, 12, 15, 11, 57, 2, 142, 81, 100], [6, 79, 39, 12, 119, 30, 217, 5, 97, 2, 94], [47, 8, 121, 56, 17, 6, 120, 66, 424, 67], [25, 149, 2, 14, 109, 22, 28], [43, 122, 7, 27, 178, 29, 218, 150], [31, 61, 80, 18, 27, 151, 29, 213, 22, 317], [9, 227, 82, 45, 33, 103, 425], [11, 51, 7, 33, 179, 41, 180, 90], [15, 24, 59, 2, 46, 74], [102, 103, 30, 314, 2, 426, 22, 28], [26, 34, 21, 2, 8, 37, 9, 5, 427], [46, 88, 2, 428, 16, 429], [36, 23, 2, 108, 9, 62, 128, 3, 110], [187, 116, 2, 9, 430], [14, 98, 2, 87, 115], [44, 2, 7, 4, 3, 104, 18, 4, 3, 64], [89, 2, 99, 4, 35, 2, 42], [111, 164, 2, 76, 32, 158], [24, 170, 32, 70, 159, 160], [53, 38, 431, 41, 68, 92, 8, 432], [24, 57, 2, 112, 16, 72], [119, 79, 2, 21, 5, 105], [25, 60, 2, 9, 5, 433], [43, 161, 4, 3, 83, 51, 318], [9, 91, 32, 70, 159, 160], [15, 95, 7, 4, 35, 2, 42], [37, 74, 2, 36, 75], [80, 31, 2, 14, 319], [65, 5, 48, 145, 72, 146, 162], [26, 34, 21, 32, 320, 4, 434], [23, 56, 2, 86], [94, 2, 195, 4, 3, 64], [14, 144, 175, 22, 28], [44, 2, 7, 4, 129, 241], [134, 53, 38], [24, 59], [21, 5, 242, 2, 188], [81, 27, 236, 117, 321], [25, 63, 2, 232], [54, 171, 17, 3, 23], [11, 50, 7], [137, 5, 3, 23, 2, 77], [40, 7, 27, 109, 194], [322, 154, 4, 3, 106], [14, 52, 163, 2, 323], [73, 2, 202, 435], [324, 71, 33, 243, 162], [325, 111, 164], [187, 116], [11, 86, 32, 56], [108, 21, 4, 69], [239, 240, 2, 36, 23], [76, 2, 111, 244], [126, 127, 2, 436], [225, 112, 16, 62], [89, 4, 35, 2, 42], [85, 59], [46, 88, 22, 28], [14, 98, 17, 224], [21, 5, 235, 2, 437], [13, 12, 15, 11, 57, 100], [6, 79, 39, 12, 119, 326, 438, 64], [439, 8, 25, 56, 17, 6, 440], [13, 148, 8, 60, 2, 14, 109, 22, 28], [6, 122, 441, 27, 10, 327, 150], [49, 186, 328, 4, 6, 31, 210], [49, 9, 227, 82, 45, 33, 442], [83, 51, 7, 61, 37, 18, 33, 179], [214, 128, 3, 110, 2, 204, 68, 245], [102, 144, 175, 9, 91], [6, 443, 19, 12, 189, 444, 445], [15, 7, 2, 44, 4, 6, 197], [6, 23, 61, 84, 36, 2, 67], [9, 246, 27, 10, 446, 117, 321], [226, 8, 154, 329, 4, 6, 106, 245], [447, 34, 32, 247, 143, 3, 228, 183], [13, 47, 68, 108, 144, 448, 92, 181], [6, 87, 330, 12, 449, 43, 100], [15, 40, 7, 331], [6, 105, 39, 450, 451], [9, 248, 5, 48, 33, 243, 162], [332, 249, 32, 70, 452], [24, 53, 453, 68, 92, 181], [101, 14, 52, 163], [250, 78, 4, 6, 130], [211, 9, 62, 45, 4, 251, 454], [6, 90, 19, 12, 187], [15, 44, 2, 7, 4, 6, 333], [13, 12, 15, 11, 57, 2, 142, 81, 41, 3, 252, 455, 156], [6, 79, 39, 12, 119, 2, 13, 148, 217, 5, 97, 2, 94, 326, 153], [13, 47, 8, 56, 17, 6, 120, 66, 67, 2, 39, 12, 121], [10, 19, 25, 149, 2, 65, 5, 48, 18, 22, 28], [49, 15, 43, 122, 7, 27, 10, 456, 29, 327, 150], [6, 31, 39, 219, 80, 18, 27, 151, 29, 213, 22, 317], [13, 12, 101, 102, 103, 9, 91, 2, 221, 334, 335], [13, 253, 8, 457, 5, 34, 336, 32, 247], [10, 19, 8, 37, 36, 60, 2, 458, 12, 124, 189], [13, 12, 15, 95, 7, 2, 96, 18, 4, 3, 254], [10, 19, 14, 52, 2, 8, 53, 38, 20, 459, 255, 176], [13, 47, 78, 4, 6, 130, 17, 460, 337], [10, 256, 246, 338, 2, 461, 107, 177, 10, 462, 463, 16, 281], [10, 19, 12, 15, 89, 2, 99, 4, 6, 35, 2, 42], [49, 464, 141, 465, 339, 16, 279, 22, 466, 29, 22, 467], [13, 12, 9, 248, 5, 48, 33, 468, 243, 146, 162], [10, 19, 8, 25, 93, 63, 20, 330, 469, 30, 143, 3, 209, 340], [13, 12, 15, 11, 126, 127, 2, 90, 5, 55, 190], [10, 19, 44, 2, 215, 4, 129, 5, 6, 257, 2, 141, 182, 251, 16, 3, 234], [49, 250, 320, 4, 6, 31, 258, 274, 341, 2, 139, 470], [10, 19, 8, 11, 53, 38, 471, 141, 339, 16, 472, 29, 473], [10, 294, 26, 2, 11, 50, 7, 17, 8, 474, 475], [10, 19, 12, 250, 476, 342, 131, 4, 6, 132, 20, 259, 16, 260, 261], [10, 256, 11, 76, 4, 6, 257, 2, 42, 18, 22, 28], [10, 19, 148, 8, 25, 138, 41, 3, 252, 183, 20, 340, 262, 477], [13, 12, 15, 46, 88, 45, 4, 233, 155], [13, 12, 15, 54, 34, 21, 2, 24, 59], [6, 104, 185, 73, 2, 343, 18, 4, 3, 64], [10, 107, 37, 71, 2, 6, 23, 39, 478], [49, 101, 14, 109, 2, 6, 40, 182, 298], [13, 47, 78, 4, 6, 130, 2, 54, 50, 7], [6, 38, 39, 12, 53, 41, 156, 2, 10, 19, 14, 52], [10, 19, 12, 15, 11, 126, 127, 2, 90, 5, 55, 190], [13, 12, 124, 11, 111, 76, 2, 244, 32, 158], [10, 19, 8, 25, 36, 60, 2, 8, 63, 41, 3, 252, 295, 222], [49, 15, 24, 57, 2, 139, 31], [6, 87, 259, 16, 260, 124, 189, 2, 49, 479, 480, 481], [10, 19, 26, 58, 5, 81, 2, 107, 177, 3, 291, 61, 292], [49, 186, 263, 5, 72, 2, 482, 341, 4, 6, 31], [10, 19, 55, 86, 128, 143, 6, 344, 32, 8, 56], [6, 23, 61, 84, 36, 2, 345, 18, 17, 6, 35, 2, 42], [13, 12, 101, 315, 316, 2, 107, 91, 334, 5, 3, 110], [10, 346, 8, 154, 4, 6, 106, 20, 262, 255, 176], [13, 264, 8, 21, 5, 105, 2, 483, 484, 163, 485], [10, 256, 248, 5, 48, 486, 487, 118, 20, 10, 488, 16, 296, 489], [10, 19, 54, 171, 2, 202, 20, 490, 8, 180, 110, 16, 491], [13, 12, 9, 205, 82, 100, 492, 5, 493, 494, 10, 123], [15, 43, 40, 161, 331, 18, 495, 496], [47, 8, 131, 17, 6, 132, 20, 39, 12, 261], [26, 11, 138, 497, 70, 13, 264, 498], [90, 5, 55, 499, 347, 45, 22, 348], [46, 88, 22, 28, 32, 70, 159, 160], [80, 31, 66, 500, 124, 189], [25, 501, 2, 237, 33, 191], [8, 502, 17, 6, 23, 20, 39, 503, 349, 2, 504], [24, 87, 115, 2, 14, 98], [184, 230, 4, 6, 35, 2, 196], [11, 51, 7, 20, 167, 27, 308, 29, 309], [54, 34, 133, 2, 350, 231], [37, 74, 2, 36, 75, 351, 68, 352, 92, 181], [21, 5, 242, 2, 188, 66, 505, 41, 156], [134, 58, 5, 265, 29, 81], [169, 97, 2, 50, 76], [11, 283, 506, 66, 208, 284, 16, 143, 3, 209, 285], [286, 117, 507, 41, 508, 145, 3, 28], [95, 96, 2, 7, 18, 4, 3, 254], [15, 26, 34, 21, 2, 21, 5, 105], [6, 23, 61, 36, 2, 10, 19, 37, 353, 32, 70, 273, 56], [9, 65, 5, 48, 30, 303, 158, 2, 141, 259, 16, 509], [10, 19, 47, 44, 4, 6, 333, 2, 42, 354, 167, 510, 3, 299], [15, 87, 115, 2, 14, 98, 17, 153, 224], [13, 511, 112, 16, 62, 155, 9, 62, 128, 3, 110], [6, 38, 182, 53, 128, 3, 110, 2, 13, 253, 6, 512], [49, 15, 40, 7, 20, 513, 27, 10, 514, 8, 216, 48], [10, 19, 8, 93, 63, 66, 12, 25, 41, 68, 92, 302, 222], [13, 47, 78, 4, 6, 130, 354, 61, 515], [10, 19, 12, 9, 84, 82, 100, 45, 30, 152, 123], [13, 12, 101, 102, 103, 9, 91, 22, 28], [10, 107, 37, 199, 2, 304, 305], [13, 264, 26, 2, 54, 34, 133], [10, 19, 11, 2, 25, 50, 7], [10, 346, 6, 23, 61, 137], [49, 516, 14, 52, 45, 323], [13, 253, 6, 355, 5, 242, 2, 188, 336], [6, 35, 2, 42, 185, 245, 517, 29, 99], [49, 101, 11, 126, 127, 2, 9, 223], [13, 518, 8, 131, 17, 6, 132, 66, 261], [49, 15, 40, 161, 2, 147], [13, 47, 8, 121, 56, 17, 6, 120, 66, 84, 67], [25, 149, 2, 65, 5, 48, 18, 22, 28], [15, 43, 122, 7, 27, 178, 29, 218, 150], [6, 31, 39, 219, 80, 356, 27, 151], [9, 84, 82, 100, 45, 33, 8, 152, 220, 123], [24, 59, 2, 46, 74, 19, 12, 8, 519], [102, 103, 9, 91, 2, 221, 22, 335], [26, 34, 21, 2, 520, 5, 105, 41, 201, 521, 160], [44, 2, 7, 4, 3, 104, 356, 4, 3, 254], [46, 88, 22, 28, 32, 70, 146, 158], [8, 25, 36, 60, 20, 39, 301, 41, 68, 92, 8, 183], [37, 9, 5, 357, 62, 45, 4, 251, 155], [266, 23, 522, 20, 185, 523, 16, 234], [157, 58, 5, 11, 50, 7], [14, 52, 2, 8, 114, 5, 8, 131, 4, 3, 38], [24, 55, 57, 20, 524, 153, 118], [26, 58, 5, 172, 2, 14, 525, 526, 527], [13, 12, 15, 57, 2, 81], [6, 79, 39, 12, 119, 30, 97], [47, 8, 121, 56, 17, 6, 120], [25, 149, 2, 48, 65], [43, 122, 7, 27, 178], [31, 61, 80, 18, 27, 151], [9, 84, 82, 45, 30, 152, 123], [11, 51, 7, 33, 180, 179, 90], [24, 59, 2, 46, 74], [102, 103, 2, 9, 91], [26, 34, 21, 32, 247], [37, 9, 5, 357, 62], [54, 332, 249, 17, 3, 23], [25, 53, 38, 2, 63], [11, 126, 127, 297, 153, 528], [15, 40, 7, 2, 147], [342, 108, 21, 4, 69], [44, 2, 7, 4, 3, 104], [37, 94, 2, 142, 195], [15, 263, 5, 72, 4, 31], [26, 2, 11, 50, 7], [36, 67, 69, 17, 3, 23], [24, 2, 11, 170], [14, 52, 2, 38, 147], [529, 34, 133, 2, 350, 231], [93, 63, 138, 2, 343, 132], [7, 2, 113, 114, 27, 204], [11, 86, 2, 44, 33, 530, 531], [85, 272, 17, 3, 358, 29, 135, 3, 75], [78, 4, 200, 32, 7], [76, 2, 206, 4, 3, 83, 238], [359, 69, 360, 3, 75, 29, 17, 3, 532], [26, 11, 138, 30, 201, 275, 276], [125, 85, 267, 30, 139, 31], [73, 310, 165, 166, 4, 3, 132], [14, 109, 33, 191, 277, 203], [55, 113, 114, 2, 215, 4, 3, 267], [157, 58, 5, 265, 29, 81], [26, 533, 5, 534, 17, 129, 192, 5, 3, 174], [535, 7, 135, 3, 83, 51, 318], [361, 362, 4, 207, 282, 2, 78, 4, 130], [324, 71, 2, 137, 5, 3, 23], [11, 7, 4, 3, 40, 20, 536, 16, 3, 537, 120], [266, 44, 2, 7, 4, 129, 241], [55, 50, 7, 2, 206, 33, 538], [157, 11, 57, 198, 136, 94], [21, 5, 105, 2, 539, 188, 4, 3, 75], [24, 87, 115, 2, 172], [184, 229, 5, 35], [26, 21, 5, 31, 4, 129, 267], [169, 540, 2, 96, 4, 3, 541], [154, 4, 3, 106, 20, 262, 255, 176], [157, 85, 542, 4, 3, 75], [25, 353, 2, 543, 5, 3, 363], [54, 58, 5, 173, 116], [322, 307, 2, 306, 77, 145, 544], [278, 36, 545, 2, 14, 546, 547], [43, 40, 161, 2, 14, 52, 163], [93, 78, 548, 549, 17, 550, 337], [44, 2, 96, 4, 3, 35, 4, 3, 64], [125, 2, 67, 69, 5, 23, 551, 30, 552, 553], [55, 364, 2, 554, 5, 555, 556], [186, 557, 558, 4, 129, 559, 5, 31], [24, 55, 560, 16, 561, 45, 22, 28], [562, 7, 4, 3, 289, 290, 18, 22, 28], [65, 5, 48, 2, 280, 33, 563], [46, 564, 2, 9, 82, 33, 8, 152, 220, 123], [113, 114, 4, 3, 79, 2, 40, 33, 191], [325, 7, 2, 565, 329, 4, 3, 566], [567, 568, 69, 569, 249, 17, 3, 363], [26, 11, 7, 4, 3, 83, 365, 238], [570, 67, 29, 125, 23, 571, 3, 572], [15, 8, 216, 355, 5, 190, 2, 21, 5, 212], [25, 36, 60, 2, 8, 9, 5, 8, 131, 4, 3, 38], [11, 366, 16, 573, 258, 14, 109], [89, 2, 99, 4, 196, 18, 4, 62, 574], [11, 50, 76, 2, 575, 97], [85, 73, 104, 4, 3, 64, 20, 576, 30, 162], [577, 23, 349, 18, 17, 3, 358, 2, 578], [63, 30, 73, 165, 166, 2, 8, 56, 579, 3, 580], [11, 581, 7, 4, 3, 83, 51, 271, 16, 3, 582], [583, 69, 17, 3, 23, 584, 17, 3, 174], [585, 229, 2, 232, 32, 70, 159, 160], [239, 240, 2, 108, 21, 9, 62, 128, 3, 110], [24, 111, 76, 2, 244, 4, 3, 257], [14, 319, 17, 288, 287, 586, 68, 72, 16, 587], [266, 2, 54, 171, 17, 3, 344], [8, 26, 588, 4, 367, 2, 589, 5, 57], [205, 36, 345, 23, 20, 590, 312], [211, 9, 214, 2, 351, 591, 592, 5, 352], [184, 593, 5, 3, 77, 173, 192, 16, 192], [8, 131, 4, 3, 132, 20, 594, 260, 595, 140, 3, 596], [26, 54, 34, 21, 2, 28, 168], [14, 597, 235, 9, 246, 27, 236, 117], [125, 598, 121, 140, 8, 599, 29, 600], [11, 366, 16, 601, 602, 258, 44, 2, 14, 109], [15, 263, 5, 72, 2, 328, 4, 31], [603, 86, 4, 3, 106, 2, 38], [237, 2, 7, 4, 3, 40, 33, 191, 604, 203], [25, 190, 21, 5, 212, 4, 118, 2, 71], [43, 161, 605, 193, 3, 241, 140, 3, 83, 51], [187, 116, 2, 265, 338], [359, 606, 69, 360, 3, 75], [24, 58, 5, 55, 364, 2, 347, 32, 70, 159, 607], [46, 88, 45, 4, 233, 155, 29, 22, 348], [113, 7, 2, 96, 4, 3, 608, 609, 18, 4, 3, 64], [11, 50, 7, 2, 610, 18, 4, 3, 83, 365, 192], [14, 52, 9, 177, 163, 61, 611, 4, 3, 38], [8, 169, 36, 612, 60, 32, 70, 613, 5, 614], [361, 615, 5, 3, 108, 17, 3, 616, 5, 3, 617], [311, 618, 140, 3, 77, 198, 136, 86, 2, 619], [15, 172, 14, 620, 2, 621, 622], [37, 9, 5, 313, 4, 3, 106, 2, 226, 21], [78, 4, 130, 623, 30, 8, 362, 4, 207, 300, 367]]\n"
     ]
    }
   ],
   "source": [
    "#tokenizing & sequence of data\n",
    "tokenizer = Tokenizer(num_words = 5000, oov_token = \"<00V>\")\n",
    "tokenizer.fit_on_texts(df['Patient_Problem'])\n",
    "sequence = tokenizer.texts_to_sequences(df['Patient_Problem'])\n",
    "print(sequence)"
   ]
  },
  {
   "cell_type": "code",
   "execution_count": 24,
   "id": "d72e7d7e",
   "metadata": {},
   "outputs": [
    {
     "name": "stdout",
     "output_type": "stream",
     "text": [
      "[[ 37  71   2 ...   0   0   0]\n",
      " [ 24  11 268 ...   0   0   0]\n",
      " [ 26  34 133 ...   0   0   0]\n",
      " ...\n",
      " [ 15 172  14 ...   0   0   0]\n",
      " [ 37   9   5 ...   0   0   0]\n",
      " [ 78   4 130 ...   0   0   0]]\n"
     ]
    }
   ],
   "source": [
    "# taking max length from sequences and applying pad_sequences\n",
    "max_length = max(len(x) for x in sequence)\n",
    "pad_sequence = pad_sequences(sequence, maxlen = max_length, padding = 'post')\n",
    "print(pad_sequence)"
   ]
  },
  {
   "cell_type": "code",
   "execution_count": 34,
   "id": "dd78a48f",
   "metadata": {},
   "outputs": [
    {
     "name": "stdout",
     "output_type": "stream",
     "text": [
      "[[0. 0. 0. ... 0. 0. 0.]\n",
      " [0. 0. 0. ... 0. 0. 0.]\n",
      " [0. 0. 0. ... 0. 0. 0.]\n",
      " ...\n",
      " [0. 0. 0. ... 0. 0. 0.]\n",
      " [0. 0. 0. ... 0. 0. 0.]\n",
      " [0. 0. 0. ... 0. 0. 0.]]\n",
      "[[0. 0. 0. ... 0. 0. 0.]\n",
      " [0. 0. 0. ... 0. 0. 0.]\n",
      " [0. 0. 0. ... 0. 0. 0.]\n",
      " ...\n",
      " [0. 0. 0. ... 0. 0. 0.]\n",
      " [0. 0. 0. ... 0. 0. 0.]\n",
      " [0. 0. 0. ... 0. 0. 0.]]\n"
     ]
    }
   ],
   "source": [
    "# Encoding the labels\n",
    "label_encoder_disease = LabelEncoder()\n",
    "label_encoder_prescription = LabelEncoder()\n",
    "\n",
    "disease_labels = label_encoder_disease.fit_transform(df[\"Disease\"])\n",
    "prescription_labels = label_encoder_prescription.fit_transform(df[\"Prescription\"])\n",
    "\n",
    "#converting labels into categorical\n",
    "disease_labels_categorical = to_categorical(disease_labels)\n",
    "prescription_labels_categorical = to_categorical(prescription_labels)\n",
    "\n",
    "print(disease_labels_categorical)\n",
    "print(prescription_labels_categorical)\n",
    "\n",
    "# print(max(disease_labels))\n",
    "# print(max(prescription_labels))"
   ]
  },
  {
   "cell_type": "code",
   "execution_count": 37,
   "id": "5e4e129b",
   "metadata": {},
   "outputs": [
    {
     "name": "stdout",
     "output_type": "stream",
     "text": [
      "[[0. 0. 0. ... 0. 0. 0.]\n",
      " [0. 0. 0. ... 0. 0. 0.]\n",
      " [0. 0. 0. ... 0. 0. 0.]\n",
      " ...\n",
      " [0. 0. 0. ... 0. 0. 0.]\n",
      " [0. 0. 0. ... 0. 0. 0.]\n",
      " [0. 0. 0. ... 0. 0. 0.]]\n"
     ]
    }
   ],
   "source": [
    "# combing both disease and prescription\n",
    "out = np.hstack((disease_labels_categorical, prescription_labels_categorical))\n",
    "print(out)"
   ]
  },
  {
   "cell_type": "code",
   "execution_count": 38,
   "id": "550f561e",
   "metadata": {},
   "outputs": [
    {
     "name": "stdout",
     "output_type": "stream",
     "text": [
      "['Achilles Tendinitis' 'Acid Reflux' 'Age-related Macular Degeneration'\n",
      " 'Allergic Rhinitis' 'Alopecia Areata' \"Alzheimer's Disease\" 'Anaphylaxis'\n",
      " 'Androgenetic Alopecia' 'Angina' 'Angina Pectoris' 'Anorexia'\n",
      " 'Anxiety Disorder' 'Aphthous Ulcers' 'Appendicitis' 'Arrhythmia' 'Asthma'\n",
      " \"Athlete's Foot\" 'Atopic Dermatitis' 'Atrial Fibrillation'\n",
      " 'Attention Deficit Hyperactivity Disorder' 'Basal Cell Carcinoma'\n",
      " \"Bell's Palsy\" 'Benign Positional Vertigo' 'Bipolar Disorder'\n",
      " 'Bronchial Asthma' 'Bronchitis' 'COVID-19' 'Carpal Tunnel Syndrome'\n",
      " 'Cellulitis' 'Chronic Asthma' 'Chronic Bronchitis'\n",
      " 'Chronic Fatigue Syndrome' 'Chronic Migraine'\n",
      " 'Chronic Obstructive Pulmonary Disease'\n",
      " 'Chronic Obstructive Pulmonary Disease (COPD)' 'Cluster Headaches'\n",
      " 'Colorectal Cancer' 'Conjunctivitis' 'Constipation' 'Contact Dermatitis'\n",
      " \"Cushing's Syndrome\" 'Cyanosis' 'Cystic Acne' 'Cystitis'\n",
      " 'Deep Vein Thrombosis' 'Depression' 'Diabetes' 'Diabetes Insipidus'\n",
      " 'Diabetes Mellitus' 'Diabetes Type 1' 'Diabetes Type 2'\n",
      " 'Diabetic Retinopathy' 'Diplopia' 'Dry Eye Syndrome'\n",
      " 'Early Onset Dementia' 'Eczema' 'Electrolyte Imbalance' 'Epistaxis'\n",
      " 'Esophageal Cancer' 'Esophageal Obstruction' 'Esophageal Reflux'\n",
      " 'Esophageal Stricture' 'Esophagitis' 'Eustachian Tube Dysfunction'\n",
      " 'Exercise-Induced Asthma' 'Food Allergy' 'Frozen Shoulder' 'GERD'\n",
      " 'Gallstones' 'Gastritis' 'Gastroenteritis'\n",
      " 'Gastroesophageal Reflux Disease'\n",
      " 'Gastroesophageal Reflux Disease (GERD)' 'Gastrointestinal Infection'\n",
      " 'Generalized Anxiety Disorder' 'Gingivitis' 'Gout' 'Heart Failure'\n",
      " 'Hematuria' 'Hemophilia' 'Hepatitis' 'Hepatitis C'\n",
      " 'Hereditary Hemorrhagic Telangiectasia' 'Herniated Disc' 'Herpes Simplex'\n",
      " 'Hyperhidrosis' 'Hypertension' 'Hyperthyroidism' 'Hypothyroidism'\n",
      " 'Influenza' 'Insomnia' 'Insomnia and Anxiety'\n",
      " 'Insomnia and Generalized Anxiety Disorder' 'Iron Deficiency Anemia'\n",
      " 'Irritable Bowel Syndrome' 'Irritable Bowel Syndrome (IBS)' 'Jaundice'\n",
      " 'Kidney Stones' 'Knee Osteoarthritis' 'Laryngitis' 'Leukemia'\n",
      " 'Leukoplakia' 'Liver Disease' 'Lung Cancer' 'Lupus' 'Lymphadenitis'\n",
      " 'Lymphoma' 'Major Depressive Disorder' 'Malaria' 'Malignant Melanoma'\n",
      " 'Melasma' 'Meningitis' 'Migraine' 'Migraine and Vertigo'\n",
      " 'Migraine with Aura' 'Migraines' 'Mononucleosis' 'Multiple Sclerosis'\n",
      " 'Muscular Dystrophy' 'Myocardial Infarction' 'Myopia'\n",
      " 'Myopia and Hyperopia' 'Night Blindness' 'Nystagmus' 'Oral Thrush'\n",
      " 'Orthostatic Hypotension' 'Overactive Bladder' 'Pancreatitis'\n",
      " 'Panic Attacks' 'Panic Disorder' \"Parkinson's Disease\"\n",
      " 'Paroxysmal Supraventricular Tachycardia' 'Patellar Tendinitis'\n",
      " 'Peanut Allergy' 'Pericarditis' 'Peripheral Artery Disease'\n",
      " 'Peripheral Neuropathy' 'Pharyngitis' 'Pleurisy' 'Pneumonia'\n",
      " 'Polycystic Ovary Syndrome' 'Pregnancy' 'Presbyopia' 'Psoriasis'\n",
      " 'Pulmonary Embolism' \"Raynaud's Phenomenon\" 'Retinal Detachment'\n",
      " 'Retinal Vein Occlusion' 'Rheumatoid Arthritis' 'Scabies' 'Sciatica'\n",
      " 'Seasonal Allergies' 'Seborrheic Dermatitis' 'Severe Allergic Reaction'\n",
      " 'Sleep Apnea' 'Social Anxiety Disorder' 'Strep Throat'\n",
      " 'Streptococcal Pharyngitis' 'Stroke' 'Subarachnoid Hemorrhage'\n",
      " 'Temporomandibular Joint Disorder' 'Tendinitis' 'Tension Headaches'\n",
      " 'Thyroid Cancer' 'Thyroid Nodule' 'Tinnitus' 'Transient Ischemic Attack'\n",
      " 'Tuberculosis' 'Type 1 Diabetes' 'Type 1 Diabetes Mellitus'\n",
      " 'Typhoid Fever' 'Ulcerative Colitis' 'Unexplained Weight Loss'\n",
      " 'Urinary Tract Infection' 'Uveitis' 'Vasovagal Syncope'\n",
      " 'Venous Insufficiency' 'Vertigo']\n"
     ]
    }
   ],
   "source": [
    "# Model Building\n",
    "print(label_encoder_disease.classes_)"
   ]
  },
  {
   "cell_type": "code",
   "execution_count": 39,
   "id": "4acda0bd",
   "metadata": {},
   "outputs": [
    {
     "name": "stdout",
     "output_type": "stream",
     "text": [
      "WARNING:tensorflow:From C:\\Users\\mahid\\anaconda3\\Lib\\site-packages\\keras\\src\\backend.py:1398: The name tf.executing_eagerly_outside_functions is deprecated. Please use tf.compat.v1.executing_eagerly_outside_functions instead.\n",
      "\n",
      "KerasTensor(type_spec=TensorSpec(shape=(None, 178), dtype=tf.float32, name=None), name='disease_output/Softmax:0', description=\"created by layer 'disease_output'\")\n"
     ]
    }
   ],
   "source": [
    "# Model archeitechture\n",
    "input_layer = Input(shape=(max_length,))\n",
    "embedding = Embedding(input_dim = 5000, output_dim = 64)(input_layer)\n",
    "lstm_layer = LSTM(64)(embedding)\n",
    "\n",
    "disease_output = Dense(len(label_encoder_disease.classes_), activation = 'softmax', name = 'disease_output')(lstm_layer)\n",
    "prescription_output = Dense(len(label_encoder_prescription.classes_), activation = 'softmax', name = 'prescription_output')(lstm_layer)\n"
   ]
  },
  {
   "cell_type": "code",
   "execution_count": 40,
   "id": "44c4359c",
   "metadata": {},
   "outputs": [
    {
     "name": "stdout",
     "output_type": "stream",
     "text": [
      "WARNING:tensorflow:From C:\\Users\\mahid\\anaconda3\\Lib\\site-packages\\keras\\src\\optimizers\\__init__.py:309: The name tf.train.Optimizer is deprecated. Please use tf.compat.v1.train.Optimizer instead.\n",
      "\n",
      "Model: \"model\"\n",
      "__________________________________________________________________________________________________\n",
      " Layer (type)                Output Shape                 Param #   Connected to                  \n",
      "==================================================================================================\n",
      " input_1 (InputLayer)        [(None, 17)]                 0         []                            \n",
      "                                                                                                  \n",
      " embedding (Embedding)       (None, 17, 64)               320000    ['input_1[0][0]']             \n",
      "                                                                                                  \n",
      " lstm (LSTM)                 (None, 64)                   33024     ['embedding[0][0]']           \n",
      "                                                                                                  \n",
      " disease_output (Dense)      (None, 178)                  11570     ['lstm[0][0]']                \n",
      "                                                                                                  \n",
      " prescription_output (Dense  (None, 388)                  25220     ['lstm[0][0]']                \n",
      " )                                                                                                \n",
      "                                                                                                  \n",
      "==================================================================================================\n",
      "Total params: 389814 (1.49 MB)\n",
      "Trainable params: 389814 (1.49 MB)\n",
      "Non-trainable params: 0 (0.00 Byte)\n",
      "__________________________________________________________________________________________________\n"
     ]
    }
   ],
   "source": [
    "# compiling the model\n",
    "model = Model(inputs = input_layer, outputs = [disease_output, prescription_output])\n",
    "\n",
    "model.compile(loss = {'disease_output':'categorical_crossentropy', 'prescription_output':'categorical_crossentropy'}, optimizer = 'adam', metrics = {'disease_output':['accuracy'], 'prescription_output':['accuracy']})\n",
    "model.summary()"
   ]
  },
  {
   "cell_type": "code",
   "execution_count": 41,
   "id": "fc9be73c",
   "metadata": {},
   "outputs": [
    {
     "name": "stdout",
     "output_type": "stream",
     "text": [
      "Epoch 1/100\n",
      "WARNING:tensorflow:From C:\\Users\\mahid\\anaconda3\\Lib\\site-packages\\keras\\src\\engine\\base_layer_utils.py:384: The name tf.executing_eagerly_outside_functions is deprecated. Please use tf.compat.v1.executing_eagerly_outside_functions instead.\n",
      "\n",
      "WARNING:tensorflow:From C:\\Users\\mahid\\anaconda3\\Lib\\site-packages\\keras\\src\\utils\\tf_utils.py:492: The name tf.ragged.RaggedTensorValue is deprecated. Please use tf.compat.v1.ragged.RaggedTensorValue instead.\n",
      "\n",
      "13/13 [==============================] - 3s 9ms/step - loss: 11.1449 - disease_output_loss: 5.1786 - prescription_output_loss: 5.9663 - disease_output_accuracy: 0.0025 - prescription_output_accuracy: 0.0025\n",
      "Epoch 2/100\n",
      "13/13 [==============================] - 0s 8ms/step - loss: 11.1237 - disease_output_loss: 5.1609 - prescription_output_loss: 5.9628 - disease_output_accuracy: 0.0344 - prescription_output_accuracy: 0.0025  \n",
      "Epoch 3/100\n",
      "13/13 [==============================] - 0s 8ms/step - loss: 11.0759 - disease_output_loss: 5.1109 - prescription_output_loss: 5.9650 - disease_output_accuracy: 0.0344 - prescription_output_accuracy: 0.0074\n",
      "Epoch 4/100\n",
      "13/13 [==============================] - 0s 9ms/step - loss: 10.9824 - disease_output_loss: 4.9771 - prescription_output_loss: 6.0053 - disease_output_accuracy: 0.0344 - prescription_output_accuracy: 0.0074\n",
      "Epoch 5/100\n",
      "13/13 [==============================] - 0s 17ms/step - loss: 10.8705 - disease_output_loss: 4.9055 - prescription_output_loss: 5.9651 - disease_output_accuracy: 0.0344 - prescription_output_accuracy: 0.0049\n",
      "Epoch 6/100\n",
      "13/13 [==============================] - 0s 17ms/step - loss: 10.7412 - disease_output_loss: 4.8132 - prescription_output_loss: 5.9280 - disease_output_accuracy: 0.0369 - prescription_output_accuracy: 0.0172\n",
      "Epoch 7/100\n",
      "13/13 [==============================] - 0s 9ms/step - loss: 10.5629 - disease_output_loss: 4.6907 - prescription_output_loss: 5.8722 - disease_output_accuracy: 0.0369 - prescription_output_accuracy: 0.0172\n",
      "Epoch 8/100\n",
      "13/13 [==============================] - 0s 10ms/step - loss: 10.4049 - disease_output_loss: 4.6015 - prescription_output_loss: 5.8034 - disease_output_accuracy: 0.0344 - prescription_output_accuracy: 0.0172\n",
      "Epoch 9/100\n",
      "13/13 [==============================] - 0s 9ms/step - loss: 10.2606 - disease_output_loss: 4.5289 - prescription_output_loss: 5.7317 - disease_output_accuracy: 0.0393 - prescription_output_accuracy: 0.0172\n",
      "Epoch 10/100\n",
      "13/13 [==============================] - 0s 8ms/step - loss: 10.1659 - disease_output_loss: 4.4968 - prescription_output_loss: 5.6690 - disease_output_accuracy: 0.0393 - prescription_output_accuracy: 0.0221\n",
      "Epoch 11/100\n",
      "13/13 [==============================] - 0s 9ms/step - loss: 10.0772 - disease_output_loss: 4.4671 - prescription_output_loss: 5.6101 - disease_output_accuracy: 0.0418 - prescription_output_accuracy: 0.0172\n",
      "Epoch 12/100\n",
      "13/13 [==============================] - 0s 9ms/step - loss: 9.9919 - disease_output_loss: 4.4256 - prescription_output_loss: 5.5663 - disease_output_accuracy: 0.0393 - prescription_output_accuracy: 0.0172\n",
      "Epoch 13/100\n",
      "13/13 [==============================] - 0s 10ms/step - loss: 9.8946 - disease_output_loss: 4.3770 - prescription_output_loss: 5.5176 - disease_output_accuracy: 0.0491 - prescription_output_accuracy: 0.0172 \n",
      "Epoch 14/100\n",
      "13/13 [==============================] - 0s 11ms/step - loss: 9.7826 - disease_output_loss: 4.3119 - prescription_output_loss: 5.4707 - disease_output_accuracy: 0.0713 - prescription_output_accuracy: 0.0172\n",
      "Epoch 15/100\n",
      "13/13 [==============================] - 0s 9ms/step - loss: 9.6744 - disease_output_loss: 4.2470 - prescription_output_loss: 5.4274 - disease_output_accuracy: 0.0909 - prescription_output_accuracy: 0.0221\n",
      "Epoch 16/100\n",
      "13/13 [==============================] - 0s 10ms/step - loss: 9.5558 - disease_output_loss: 4.1868 - prescription_output_loss: 5.3690 - disease_output_accuracy: 0.1057 - prescription_output_accuracy: 0.0246\n",
      "Epoch 17/100\n",
      "13/13 [==============================] - 0s 8ms/step - loss: 9.4039 - disease_output_loss: 4.1075 - prescription_output_loss: 5.2964 - disease_output_accuracy: 0.1057 - prescription_output_accuracy: 0.0221\n",
      "Epoch 18/100\n",
      "13/13 [==============================] - 0s 8ms/step - loss: 9.2728 - disease_output_loss: 4.0299 - prescription_output_loss: 5.2429 - disease_output_accuracy: 0.1032 - prescription_output_accuracy: 0.0221\n",
      "Epoch 19/100\n",
      "13/13 [==============================] - 0s 8ms/step - loss: 9.1234 - disease_output_loss: 3.9420 - prescription_output_loss: 5.1814 - disease_output_accuracy: 0.1302 - prescription_output_accuracy: 0.0295\n",
      "Epoch 20/100\n",
      "13/13 [==============================] - 0s 9ms/step - loss: 9.0265 - disease_output_loss: 3.8948 - prescription_output_loss: 5.1317 - disease_output_accuracy: 0.1253 - prescription_output_accuracy: 0.0270\n",
      "Epoch 21/100\n",
      "13/13 [==============================] - 0s 8ms/step - loss: 8.8734 - disease_output_loss: 3.8132 - prescription_output_loss: 5.0602 - disease_output_accuracy: 0.1523 - prescription_output_accuracy: 0.0319\n",
      "Epoch 22/100\n",
      "13/13 [==============================] - 0s 8ms/step - loss: 8.6940 - disease_output_loss: 3.7144 - prescription_output_loss: 4.9797 - disease_output_accuracy: 0.1474 - prescription_output_accuracy: 0.0418\n",
      "Epoch 23/100\n",
      "13/13 [==============================] - 0s 9ms/step - loss: 8.5767 - disease_output_loss: 3.6621 - prescription_output_loss: 4.9147 - disease_output_accuracy: 0.1769 - prescription_output_accuracy: 0.0393\n",
      "Epoch 24/100\n",
      "13/13 [==============================] - 0s 9ms/step - loss: 8.4296 - disease_output_loss: 3.5809 - prescription_output_loss: 4.8487 - disease_output_accuracy: 0.1572 - prescription_output_accuracy: 0.0442\n",
      "Epoch 25/100\n",
      "13/13 [==============================] - 0s 11ms/step - loss: 8.2913 - disease_output_loss: 3.5050 - prescription_output_loss: 4.7863 - disease_output_accuracy: 0.1818 - prescription_output_accuracy: 0.0516\n",
      "Epoch 26/100\n",
      "13/13 [==============================] - 0s 12ms/step - loss: 8.1690 - disease_output_loss: 3.4486 - prescription_output_loss: 4.7204 - disease_output_accuracy: 0.1794 - prescription_output_accuracy: 0.0590\n",
      "Epoch 27/100\n",
      "13/13 [==============================] - 0s 10ms/step - loss: 8.0364 - disease_output_loss: 3.3714 - prescription_output_loss: 4.6651 - disease_output_accuracy: 0.2015 - prescription_output_accuracy: 0.0565\n",
      "Epoch 28/100\n",
      "13/13 [==============================] - 0s 8ms/step - loss: 7.8836 - disease_output_loss: 3.2968 - prescription_output_loss: 4.5868 - disease_output_accuracy: 0.2187 - prescription_output_accuracy: 0.0639\n",
      "Epoch 29/100\n",
      "13/13 [==============================] - 0s 8ms/step - loss: 7.7401 - disease_output_loss: 3.2157 - prescription_output_loss: 4.5243 - disease_output_accuracy: 0.2310 - prescription_output_accuracy: 0.0541\n",
      "Epoch 30/100\n",
      "13/13 [==============================] - 0s 9ms/step - loss: 7.5915 - disease_output_loss: 3.1366 - prescription_output_loss: 4.4549 - disease_output_accuracy: 0.2506 - prescription_output_accuracy: 0.0737\n",
      "Epoch 31/100\n",
      "13/13 [==============================] - 0s 11ms/step - loss: 7.4859 - disease_output_loss: 3.0829 - prescription_output_loss: 4.4030 - disease_output_accuracy: 0.2826 - prescription_output_accuracy: 0.0713\n",
      "Epoch 32/100\n",
      "13/13 [==============================] - 0s 8ms/step - loss: 7.3745 - disease_output_loss: 3.0283 - prescription_output_loss: 4.3461 - disease_output_accuracy: 0.2924 - prescription_output_accuracy: 0.0835\n",
      "Epoch 33/100\n",
      "13/13 [==============================] - 0s 10ms/step - loss: 7.2261 - disease_output_loss: 2.9460 - prescription_output_loss: 4.2800 - disease_output_accuracy: 0.3022 - prescription_output_accuracy: 0.0934\n",
      "Epoch 34/100\n",
      "13/13 [==============================] - 0s 8ms/step - loss: 7.0789 - disease_output_loss: 2.8668 - prescription_output_loss: 4.2120 - disease_output_accuracy: 0.3268 - prescription_output_accuracy: 0.0934\n",
      "Epoch 35/100\n",
      "13/13 [==============================] - 0s 8ms/step - loss: 6.9757 - disease_output_loss: 2.8178 - prescription_output_loss: 4.1579 - disease_output_accuracy: 0.3268 - prescription_output_accuracy: 0.1229\n",
      "Epoch 36/100\n",
      "13/13 [==============================] - 0s 12ms/step - loss: 6.8531 - disease_output_loss: 2.7556 - prescription_output_loss: 4.0974 - disease_output_accuracy: 0.3686 - prescription_output_accuracy: 0.1302\n",
      "Epoch 37/100\n",
      "13/13 [==============================] - 0s 9ms/step - loss: 6.7486 - disease_output_loss: 2.7030 - prescription_output_loss: 4.0456 - disease_output_accuracy: 0.3710 - prescription_output_accuracy: 0.1302\n",
      "Epoch 38/100\n",
      "13/13 [==============================] - 0s 8ms/step - loss: 6.6628 - disease_output_loss: 2.6616 - prescription_output_loss: 4.0012 - disease_output_accuracy: 0.3857 - prescription_output_accuracy: 0.1376\n",
      "Epoch 39/100\n",
      "13/13 [==============================] - 0s 9ms/step - loss: 6.5122 - disease_output_loss: 2.5780 - prescription_output_loss: 3.9342 - disease_output_accuracy: 0.4251 - prescription_output_accuracy: 0.1278\n",
      "Epoch 40/100\n",
      "13/13 [==============================] - 0s 9ms/step - loss: 6.4075 - disease_output_loss: 2.5251 - prescription_output_loss: 3.8823 - disease_output_accuracy: 0.4324 - prescription_output_accuracy: 0.1548\n",
      "Epoch 41/100\n",
      "13/13 [==============================] - 0s 8ms/step - loss: 6.3083 - disease_output_loss: 2.4773 - prescription_output_loss: 3.8310 - disease_output_accuracy: 0.4423 - prescription_output_accuracy: 0.1671\n",
      "Epoch 42/100\n",
      "13/13 [==============================] - 0s 8ms/step - loss: 6.1791 - disease_output_loss: 2.4105 - prescription_output_loss: 3.7686 - disease_output_accuracy: 0.4447 - prescription_output_accuracy: 0.1572\n",
      "Epoch 43/100\n",
      "13/13 [==============================] - 0s 11ms/step - loss: 6.0636 - disease_output_loss: 2.3547 - prescription_output_loss: 3.7089 - disease_output_accuracy: 0.4545 - prescription_output_accuracy: 0.1794\n",
      "Epoch 44/100\n",
      "13/13 [==============================] - 0s 8ms/step - loss: 5.9938 - disease_output_loss: 2.3269 - prescription_output_loss: 3.6669 - disease_output_accuracy: 0.4644 - prescription_output_accuracy: 0.1966\n",
      "Epoch 45/100\n",
      "13/13 [==============================] - 0s 9ms/step - loss: 5.8917 - disease_output_loss: 2.2802 - prescription_output_loss: 3.6115 - disease_output_accuracy: 0.4939 - prescription_output_accuracy: 0.1843\n",
      "Epoch 46/100\n",
      "13/13 [==============================] - 0s 7ms/step - loss: 5.8149 - disease_output_loss: 2.2434 - prescription_output_loss: 3.5715 - disease_output_accuracy: 0.4767 - prescription_output_accuracy: 0.2015\n",
      "Epoch 47/100\n",
      "13/13 [==============================] - 0s 7ms/step - loss: 5.6827 - disease_output_loss: 2.1811 - prescription_output_loss: 3.5016 - disease_output_accuracy: 0.5061 - prescription_output_accuracy: 0.2359\n",
      "Epoch 48/100\n",
      "13/13 [==============================] - 0s 8ms/step - loss: 5.5708 - disease_output_loss: 2.1389 - prescription_output_loss: 3.4319 - disease_output_accuracy: 0.5012 - prescription_output_accuracy: 0.2408\n",
      "Epoch 49/100\n",
      "13/13 [==============================] - 0s 8ms/step - loss: 5.4837 - disease_output_loss: 2.0842 - prescription_output_loss: 3.3995 - disease_output_accuracy: 0.5160 - prescription_output_accuracy: 0.2285\n",
      "Epoch 50/100\n",
      "13/13 [==============================] - 0s 8ms/step - loss: 5.3814 - disease_output_loss: 2.0355 - prescription_output_loss: 3.3459 - disease_output_accuracy: 0.5479 - prescription_output_accuracy: 0.2678\n",
      "Epoch 51/100\n",
      "13/13 [==============================] - 0s 8ms/step - loss: 5.2728 - disease_output_loss: 1.9853 - prescription_output_loss: 3.2875 - disease_output_accuracy: 0.5479 - prescription_output_accuracy: 0.2850\n",
      "Epoch 52/100\n",
      "13/13 [==============================] - 0s 12ms/step - loss: 5.1906 - disease_output_loss: 1.9577 - prescription_output_loss: 3.2329 - disease_output_accuracy: 0.5651 - prescription_output_accuracy: 0.3243\n",
      "Epoch 53/100\n",
      "13/13 [==============================] - 0s 8ms/step - loss: 5.0903 - disease_output_loss: 1.9077 - prescription_output_loss: 3.1826 - disease_output_accuracy: 0.5577 - prescription_output_accuracy: 0.3317\n",
      "Epoch 54/100\n",
      "13/13 [==============================] - 0s 15ms/step - loss: 5.0040 - disease_output_loss: 1.8676 - prescription_output_loss: 3.1364 - disease_output_accuracy: 0.5799 - prescription_output_accuracy: 0.3415\n",
      "Epoch 55/100\n",
      "13/13 [==============================] - 0s 9ms/step - loss: 4.9500 - disease_output_loss: 1.8458 - prescription_output_loss: 3.1042 - disease_output_accuracy: 0.5749 - prescription_output_accuracy: 0.3366\n",
      "Epoch 56/100\n",
      "13/13 [==============================] - 0s 9ms/step - loss: 4.9420 - disease_output_loss: 1.8478 - prescription_output_loss: 3.0942 - disease_output_accuracy: 0.5577 - prescription_output_accuracy: 0.3292\n",
      "Epoch 57/100\n",
      "13/13 [==============================] - 0s 8ms/step - loss: 4.8808 - disease_output_loss: 1.8118 - prescription_output_loss: 3.0690 - disease_output_accuracy: 0.5872 - prescription_output_accuracy: 0.3342\n",
      "Epoch 58/100\n",
      "13/13 [==============================] - 0s 9ms/step - loss: 4.8397 - disease_output_loss: 1.7993 - prescription_output_loss: 3.0404 - disease_output_accuracy: 0.5799 - prescription_output_accuracy: 0.3366\n",
      "Epoch 59/100\n",
      "13/13 [==============================] - 0s 8ms/step - loss: 4.7929 - disease_output_loss: 1.7796 - prescription_output_loss: 3.0133 - disease_output_accuracy: 0.5872 - prescription_output_accuracy: 0.3317\n",
      "Epoch 60/100\n",
      "13/13 [==============================] - 0s 7ms/step - loss: 4.6848 - disease_output_loss: 1.7339 - prescription_output_loss: 2.9509 - disease_output_accuracy: 0.5848 - prescription_output_accuracy: 0.3661\n",
      "Epoch 61/100\n",
      "13/13 [==============================] - 0s 6ms/step - loss: 4.5332 - disease_output_loss: 1.6589 - prescription_output_loss: 2.8743 - disease_output_accuracy: 0.6167 - prescription_output_accuracy: 0.3931\n",
      "Epoch 62/100\n",
      "13/13 [==============================] - 0s 8ms/step - loss: 4.4727 - disease_output_loss: 1.6250 - prescription_output_loss: 2.8477 - disease_output_accuracy: 0.6339 - prescription_output_accuracy: 0.3907\n",
      "Epoch 63/100\n",
      "13/13 [==============================] - 0s 16ms/step - loss: 4.3875 - disease_output_loss: 1.5972 - prescription_output_loss: 2.7903 - disease_output_accuracy: 0.6364 - prescription_output_accuracy: 0.4152\n",
      "Epoch 64/100\n",
      "13/13 [==============================] - 0s 13ms/step - loss: 4.3422 - disease_output_loss: 1.5772 - prescription_output_loss: 2.7650 - disease_output_accuracy: 0.6290 - prescription_output_accuracy: 0.4177\n",
      "Epoch 65/100\n",
      "13/13 [==============================] - 0s 16ms/step - loss: 4.2545 - disease_output_loss: 1.5354 - prescription_output_loss: 2.7191 - disease_output_accuracy: 0.6511 - prescription_output_accuracy: 0.4324\n",
      "Epoch 66/100\n",
      "13/13 [==============================] - 0s 11ms/step - loss: 4.2568 - disease_output_loss: 1.5365 - prescription_output_loss: 2.7203 - disease_output_accuracy: 0.6560 - prescription_output_accuracy: 0.4275\n",
      "Epoch 67/100\n",
      "13/13 [==============================] - 0s 8ms/step - loss: 4.2105 - disease_output_loss: 1.5189 - prescription_output_loss: 2.6916 - disease_output_accuracy: 0.6486 - prescription_output_accuracy: 0.4251\n",
      "Epoch 68/100\n",
      "13/13 [==============================] - 0s 17ms/step - loss: 4.1396 - disease_output_loss: 1.4964 - prescription_output_loss: 2.6432 - disease_output_accuracy: 0.6609 - prescription_output_accuracy: 0.4275\n",
      "Epoch 69/100\n",
      "13/13 [==============================] - 0s 17ms/step - loss: 4.0507 - disease_output_loss: 1.4568 - prescription_output_loss: 2.5939 - disease_output_accuracy: 0.6634 - prescription_output_accuracy: 0.4717\n",
      "Epoch 70/100\n",
      "13/13 [==============================] - 0s 9ms/step - loss: 3.9761 - disease_output_loss: 1.4258 - prescription_output_loss: 2.5503 - disease_output_accuracy: 0.6683 - prescription_output_accuracy: 0.4717\n",
      "Epoch 71/100\n",
      "13/13 [==============================] - 0s 8ms/step - loss: 3.8927 - disease_output_loss: 1.3851 - prescription_output_loss: 2.5076 - disease_output_accuracy: 0.6880 - prescription_output_accuracy: 0.4939\n",
      "Epoch 72/100\n",
      "13/13 [==============================] - 0s 9ms/step - loss: 3.8275 - disease_output_loss: 1.3557 - prescription_output_loss: 2.4718 - disease_output_accuracy: 0.6953 - prescription_output_accuracy: 0.5037\n",
      "Epoch 73/100\n",
      "13/13 [==============================] - 0s 9ms/step - loss: 3.7836 - disease_output_loss: 1.3293 - prescription_output_loss: 2.4543 - disease_output_accuracy: 0.7002 - prescription_output_accuracy: 0.4963\n",
      "Epoch 74/100\n",
      "13/13 [==============================] - 0s 8ms/step - loss: 3.7275 - disease_output_loss: 1.3215 - prescription_output_loss: 2.4059 - disease_output_accuracy: 0.6953 - prescription_output_accuracy: 0.5258\n",
      "Epoch 75/100\n",
      "13/13 [==============================] - 0s 8ms/step - loss: 3.6484 - disease_output_loss: 1.2772 - prescription_output_loss: 2.3711 - disease_output_accuracy: 0.7199 - prescription_output_accuracy: 0.5012\n",
      "Epoch 76/100\n",
      "13/13 [==============================] - 0s 8ms/step - loss: 3.5717 - disease_output_loss: 1.2417 - prescription_output_loss: 2.3300 - disease_output_accuracy: 0.7199 - prescription_output_accuracy: 0.5455\n",
      "Epoch 77/100\n",
      "13/13 [==============================] - 0s 8ms/step - loss: 3.5020 - disease_output_loss: 1.2130 - prescription_output_loss: 2.2889 - disease_output_accuracy: 0.7396 - prescription_output_accuracy: 0.5405\n",
      "Epoch 78/100\n",
      "13/13 [==============================] - 0s 9ms/step - loss: 3.4852 - disease_output_loss: 1.2099 - prescription_output_loss: 2.2754 - disease_output_accuracy: 0.7346 - prescription_output_accuracy: 0.5553\n",
      "Epoch 79/100\n",
      "13/13 [==============================] - 0s 8ms/step - loss: 3.4359 - disease_output_loss: 1.1907 - prescription_output_loss: 2.2452 - disease_output_accuracy: 0.7371 - prescription_output_accuracy: 0.5528\n",
      "Epoch 80/100\n",
      "13/13 [==============================] - 0s 8ms/step - loss: 3.3410 - disease_output_loss: 1.1494 - prescription_output_loss: 2.1916 - disease_output_accuracy: 0.7494 - prescription_output_accuracy: 0.5774\n",
      "Epoch 81/100\n",
      "13/13 [==============================] - 0s 8ms/step - loss: 3.2848 - disease_output_loss: 1.1291 - prescription_output_loss: 2.1557 - disease_output_accuracy: 0.7543 - prescription_output_accuracy: 0.5946\n",
      "Epoch 82/100\n",
      "13/13 [==============================] - 0s 8ms/step - loss: 3.2292 - disease_output_loss: 1.1009 - prescription_output_loss: 2.1283 - disease_output_accuracy: 0.7641 - prescription_output_accuracy: 0.5823\n",
      "Epoch 83/100\n",
      "13/13 [==============================] - 0s 8ms/step - loss: 3.1659 - disease_output_loss: 1.0692 - prescription_output_loss: 2.0967 - disease_output_accuracy: 0.7789 - prescription_output_accuracy: 0.5971\n",
      "Epoch 84/100\n",
      "13/13 [==============================] - 0s 7ms/step - loss: 3.1517 - disease_output_loss: 1.0740 - prescription_output_loss: 2.0777 - disease_output_accuracy: 0.7862 - prescription_output_accuracy: 0.6069\n",
      "Epoch 85/100\n",
      "13/13 [==============================] - 0s 7ms/step - loss: 3.1002 - disease_output_loss: 1.0549 - prescription_output_loss: 2.0453 - disease_output_accuracy: 0.7862 - prescription_output_accuracy: 0.6069\n",
      "Epoch 86/100\n",
      "13/13 [==============================] - 0s 7ms/step - loss: 3.0611 - disease_output_loss: 1.0320 - prescription_output_loss: 2.0291 - disease_output_accuracy: 0.7862 - prescription_output_accuracy: 0.6118\n",
      "Epoch 87/100\n",
      "13/13 [==============================] - 0s 16ms/step - loss: 3.0089 - disease_output_loss: 1.0187 - prescription_output_loss: 1.9902 - disease_output_accuracy: 0.7936 - prescription_output_accuracy: 0.6241\n",
      "Epoch 88/100\n",
      "13/13 [==============================] - 0s 17ms/step - loss: 2.9597 - disease_output_loss: 0.9906 - prescription_output_loss: 1.9690 - disease_output_accuracy: 0.7985 - prescription_output_accuracy: 0.6143\n",
      "Epoch 89/100\n",
      "13/13 [==============================] - 0s 19ms/step - loss: 2.9250 - disease_output_loss: 0.9843 - prescription_output_loss: 1.9407 - disease_output_accuracy: 0.8010 - prescription_output_accuracy: 0.6241\n",
      "Epoch 90/100\n",
      "13/13 [==============================] - 0s 9ms/step - loss: 2.8798 - disease_output_loss: 0.9563 - prescription_output_loss: 1.9235 - disease_output_accuracy: 0.8231 - prescription_output_accuracy: 0.6265\n",
      "Epoch 91/100\n",
      "13/13 [==============================] - 0s 8ms/step - loss: 2.8410 - disease_output_loss: 0.9450 - prescription_output_loss: 1.8961 - disease_output_accuracy: 0.8329 - prescription_output_accuracy: 0.6486\n",
      "Epoch 92/100\n",
      "13/13 [==============================] - 0s 9ms/step - loss: 2.7810 - disease_output_loss: 0.9151 - prescription_output_loss: 1.8659 - disease_output_accuracy: 0.8280 - prescription_output_accuracy: 0.6486\n",
      "Epoch 93/100\n",
      "13/13 [==============================] - 0s 16ms/step - loss: 2.7443 - disease_output_loss: 0.9042 - prescription_output_loss: 1.8401 - disease_output_accuracy: 0.8403 - prescription_output_accuracy: 0.6364\n",
      "Epoch 94/100\n",
      "13/13 [==============================] - 0s 13ms/step - loss: 2.7140 - disease_output_loss: 0.8894 - prescription_output_loss: 1.8247 - disease_output_accuracy: 0.8403 - prescription_output_accuracy: 0.6560\n",
      "Epoch 95/100\n",
      "13/13 [==============================] - 0s 14ms/step - loss: 2.7165 - disease_output_loss: 0.9002 - prescription_output_loss: 1.8163 - disease_output_accuracy: 0.8329 - prescription_output_accuracy: 0.6536\n",
      "Epoch 96/100\n",
      "13/13 [==============================] - 0s 7ms/step - loss: 2.6728 - disease_output_loss: 0.8707 - prescription_output_loss: 1.8021 - disease_output_accuracy: 0.8403 - prescription_output_accuracy: 0.6585\n",
      "Epoch 97/100\n",
      "13/13 [==============================] - 0s 9ms/step - loss: 2.6531 - disease_output_loss: 0.8710 - prescription_output_loss: 1.7821 - disease_output_accuracy: 0.8305 - prescription_output_accuracy: 0.6511\n",
      "Epoch 98/100\n",
      "13/13 [==============================] - 0s 7ms/step - loss: 2.6079 - disease_output_loss: 0.8504 - prescription_output_loss: 1.7574 - disease_output_accuracy: 0.8477 - prescription_output_accuracy: 0.6536\n",
      "Epoch 99/100\n",
      "13/13 [==============================] - 0s 8ms/step - loss: 2.6169 - disease_output_loss: 0.8547 - prescription_output_loss: 1.7622 - disease_output_accuracy: 0.8526 - prescription_output_accuracy: 0.6708\n",
      "Epoch 100/100\n",
      "13/13 [==============================] - 0s 7ms/step - loss: 2.6595 - disease_output_loss: 0.8837 - prescription_output_loss: 1.7758 - disease_output_accuracy: 0.8231 - prescription_output_accuracy: 0.6413\n"
     ]
    },
    {
     "data": {
      "text/plain": [
       "<keras.src.callbacks.History at 0x1d6b69f6190>"
      ]
     },
     "execution_count": 41,
     "metadata": {},
     "output_type": "execute_result"
    }
   ],
   "source": [
    "# Training the model\n",
    "model.fit(pad_sequence, {'disease_output': disease_labels_categorical,'prescription_output': prescription_labels_categorical}, epochs = 100, batch_size = 32)"
   ]
  },
  {
   "cell_type": "code",
   "execution_count": 50,
   "id": "90851d97",
   "metadata": {},
   "outputs": [
    {
     "name": "stdout",
     "output_type": "stream",
     "text": [
      "1/1 [==============================] - 0s 13ms/step\n",
      "Predicted Disease: Depression\n",
      "Suggested Prescription: Antidepressants; eating nutrient-rich foods.\n"
     ]
    }
   ],
   "source": [
    "def make_prediction(prob_statement):\n",
    "    # converting the input into padded sequence\n",
    "#     tokenizer = Tokenizer(num_words = 5000, oov_token = \"<OOV>\")\n",
    "#     tokenizer.fit_on_texts([prob_statement])\n",
    "    # preprocessing the input\n",
    "    sequence = tokenizer.texts_to_sequences([prob_statement])\n",
    "    pad = pad_sequences(sequence, maxlen = max_length, padding = 'post')\n",
    "    prediction = model.predict(pad)\n",
    "    \n",
    "    #decoding the output\n",
    "    disease_index = np.argmax(prediction[0], axis=1)[0]\n",
    "    prescription_index = np.argmax(prediction[1], axis=1)[0]\n",
    "    \n",
    "    \n",
    "    disease_predicted = label_encoder_disease.inverse_transform([disease_index])[0]\n",
    "    prescription_predicted = label_encoder_prescription.inverse_transform([prescription_index])[0]\n",
    "    \n",
    "    \n",
    "    print(f\"Predicted Disease: {disease_predicted}\")\n",
    "    print(f\"Suggested Prescription: {prescription_predicted}\")\n",
    "    \n",
    "#     print(output)\n",
    "\n",
    "patient_input = \"I've experienced a loss of appetite and don't enjoy food anymore.\"\n",
    "make_prediction(patient_input)"
   ]
  },
  {
   "cell_type": "code",
   "execution_count": null,
   "id": "9cf46ca3",
   "metadata": {},
   "outputs": [],
   "source": []
  },
  {
   "cell_type": "code",
   "execution_count": null,
   "id": "a0ce2b85",
   "metadata": {},
   "outputs": [],
   "source": []
  },
  {
   "cell_type": "code",
   "execution_count": null,
   "id": "2c44b574",
   "metadata": {},
   "outputs": [],
   "source": []
  },
  {
   "cell_type": "code",
   "execution_count": null,
   "id": "bf6359f6",
   "metadata": {},
   "outputs": [],
   "source": []
  }
 ],
 "metadata": {
  "kernelspec": {
   "display_name": "Python 3 (ipykernel)",
   "language": "python",
   "name": "python3"
  },
  "language_info": {
   "codemirror_mode": {
    "name": "ipython",
    "version": 3
   },
   "file_extension": ".py",
   "mimetype": "text/x-python",
   "name": "python",
   "nbconvert_exporter": "python",
   "pygments_lexer": "ipython3",
   "version": "3.11.5"
  }
 },
 "nbformat": 4,
 "nbformat_minor": 5
}
